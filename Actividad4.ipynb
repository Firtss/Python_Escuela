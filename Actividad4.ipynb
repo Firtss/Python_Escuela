{
  "nbformat": 4,
  "nbformat_minor": 0,
  "metadata": {
    "colab": {
      "provenance": [],
      "authorship_tag": "ABX9TyNpAaUVlC4sdQCyWUnF+7E0",
      "include_colab_link": true
    },
    "kernelspec": {
      "name": "python3",
      "display_name": "Python 3"
    },
    "language_info": {
      "name": "python"
    }
  },
  "cells": [
    {
      "cell_type": "markdown",
      "metadata": {
        "id": "view-in-github",
        "colab_type": "text"
      },
      "source": [
        "<a href=\"https://colab.research.google.com/github/Firtss/Python_Escuela/blob/main/Actividad4.ipynb\" target=\"_parent\"><img src=\"https://colab.research.google.com/assets/colab-badge.svg\" alt=\"Open In Colab\"/></a>"
      ]
    },
    {
      "cell_type": "markdown",
      "source": [
        "# Actividad4\n",
        "REALIZA LOS SIGUIENTES EJERCICIOS USANDO LA FORMA ADECUADA Y USANDO try Except NO DEBERA FALLAR EL PROGRAMA.\n",
        "\n",
        "\n",
        "1.- Programa en python   que lea 3 calificaciones calcule el promedio del alumno y desplegar:\n",
        "\n",
        "Si prom < 30 Repetir\n",
        "\n",
        "Si prom >=30 y prom <60 extraordinario\n",
        "\n",
        "Si prom >=60 y prom <70 suficiente\n",
        "\n",
        "Si prom >=70 y prom <80 Regular\n",
        "\n",
        "Si prom >=80 y prom <90 bien\n",
        "\n",
        "Si prom >=90 y prom <98 muy bien\n",
        "\n",
        "Si prom >=98 y prom <=100 excelente\n",
        "\n",
        "Si prom >100 Error en promedio\n",
        "\n",
        "Realizar el algoritmo optimizado\n",
        "\n"
      ],
      "metadata": {
        "id": "QtqNFi2Q_0GZ"
      }
    },
    {
      "cell_type": "code",
      "execution_count": null,
      "metadata": {
        "colab": {
          "base_uri": "https://localhost:8080/"
        },
        "id": "aAQSFk10_DF3",
        "outputId": "10a6e5f1-91bf-405b-a0b8-25719adf7b2d"
      },
      "outputs": [
        {
          "output_type": "stream",
          "name": "stdout",
          "text": [
            "Dame tus 3 calificaciones\n",
            "\n",
            "Calificacion 1: 80\n",
            "Calificacion 2: 90\n",
            "Calificacion 3: ghgf\n",
            "Algo hiciste mal, intenta de nuevo\n"
          ]
        }
      ],
      "source": [
        "print(\"Dame tus 3 calificaciones\\n\")\n",
        "\n",
        "try:\n",
        "    cal1 = int(input(\"Calificacion 1: \"))\n",
        "    cal2 = int(input(\"Calificacion 2: \"))\n",
        "    cal3 = int(input(\"Calificacion 3: \"))\n",
        "    prom = (cal1 + cal2 + cal3)/3\n",
        "    print(f\"Tu promedio es de: {prom}\\n\")\n",
        "except:\n",
        "    print(\"Algo hiciste mal, intenta de nuevo\")\n",
        "else:\n",
        "    if (prom >= 80):\n",
        "        if (prom >= 90):\n",
        "            if (prom >= 98):\n",
        "                if (prom > 100):\n",
        "                    print(\"Error\")\n",
        "                else:\n",
        "                    print(\"Excelente\")\n",
        "            else:\n",
        "                print(\"Muy bien\")\n",
        "        else:\n",
        "            print(\"Bien\")\n",
        "    else:\n",
        "        if (prom >= 30):\n",
        "            if (prom >= 60):\n",
        "                if (prom >= 70):\n",
        "                    print(\"Regular\")\n",
        "                else:\n",
        "                    print(\"Suficiente\")\n",
        "            else:\n",
        "                 print(\"Extraordinario\")\n",
        "        else:\n",
        "            print(\"Repetir\")"
      ]
    },
    {
      "cell_type": "markdown",
      "source": [
        "2.- Programa en Python que sirva para calcular el salario semanal de un trabajador donde se obtiene como dato de entrada las horas semanales trabajadas, el salario por hora.\n",
        "\n",
        "El programa deberá calcular el salario normal, salario extra y salario total, considerando lo siguiente:\n",
        "\n",
        "Jornada Normal de 40 horas.\n",
        "El salario normal se considera las horas trabajadas menores o igual a la jornada normal\n",
        "Salario extra se considera las horas trabajadas mayores a la jornada normal y se pagan dobles las primeras 9 y triples a partir de la décima hora extra\n",
        "\n",
        "\n",
        "Nota: Desplegar todos los datos (Salario x hora, Horas Trabajadas, Salario normal, Salario extra y Salario Total)"
      ],
      "metadata": {
        "id": "G3yI-Pq6Auc-"
      }
    },
    {
      "cell_type": "code",
      "source": [
        "# El salario por hora lo manejare por 12 dolares la hora\n",
        "horas = int(input(\"Cuantas horas trabajaste durante la semana?\"))\n",
        "if horas <= 40:\n",
        "    salario = horas * 12\n",
        "    print(f\"Trabajaste {horas} de horas\\n ... \\nNo trabajaste horas extras\")\n",
        "    print(f\"La cantidad de salario que recibes es {salario}\")\n",
        "if horas > 40:\n",
        "    extra2 = horas - 40\n",
        "    if extra2 <= 9:\n",
        "        salarioextra = (extra2 * 2)* 12\n",
        "        salario = (40 * 12) + salarioextra\n",
        "        print(f\"Trabajaste {horas} de horas\\n ... \\nTrabajaste horas extras\")\n",
        "        print(f\"La cantidad de horas trabajadas es de {extra2}\")\n",
        "        print(f\"La cantidad de salario que recibes es {salario} dolares\")\n",
        "    else:\n",
        "        extra3 = extra2 - 9\n",
        "        salarioextra = ((extra2 * 2)+(extra3 * 3)) * 12\n",
        "        salario = (40 * 12) + salarioextra\n",
        "        print(f\"Trabajaste {horas} de horas\\n ... \\nTrabajaste horas extras\")\n",
        "        print(f\"La cantidad de horas dobles es de {9}\")\n",
        "        print(f\"La cantidad de horas triples es de {extra3}\")\n",
        "        print(f\"La cantidad de salario que recibes es {salario} dolares\")"
      ],
      "metadata": {
        "id": "CKH8qRW9AxwG"
      },
      "execution_count": null,
      "outputs": []
    },
    {
      "cell_type": "markdown",
      "source": [
        "3.- Programa en Python que sirva para calcular el Total a pagar por consumo de agua, donde el dato de entrada son los M3 de agua consumidos, Tomar en cuenta que se cobra escalonada de la Siguiente manera:\n",
        "\n",
        "Rango1: 0 al 4 M3 $50 x facturación sin importar cuánto consumió en este rango\n",
        "\n",
        "Rango2: 5 a 15 M3 $8.00 x M3\n",
        "\n",
        "Rango3: 16 a 50 M3 $10.00 x M3\n",
        "\n",
        "Rango4: 51 M3 en adelante $11.00 x M3\n",
        "\n",
        "Nota: Desplegar SubTotal, Iva(16%), y Total a pagar."
      ],
      "metadata": {
        "id": "m4MI_IrDAyId"
      }
    },
    {
      "cell_type": "code",
      "source": [
        "m3 = int(input(\"Dame la cantidad de M3 de agua consumidos para darte el total a pagar\"))\n",
        "if m3 <= 15:\n",
        "    print(f\"Usted uso un total de {m3} M3\")\n",
        "    consumo = (m3 * 8)\n",
        "    iva = consumo * 0.16\n",
        "    total = consumo + iva\n",
        "    print(f\"Subtotal: {consumo}\\nIva: {iva}\\nTotal: {total}\")\n",
        "    if m3 <= 4:\n",
        "        consumo = (m3 * 50)\n",
        "        iva = consumo * 0.16\n",
        "        total = consumo + iva\n",
        "        print(f\"Subtotal: {consumo}\\nIva: {iva}\\nTotal: {total}\")\n",
        "else:\n",
        "    if m3 >= 51:\n",
        "        consumo = (m3 * 11)\n",
        "        iva = consumo * 0.16\n",
        "        total = consumo + iva\n",
        "        print(f\"Subtotal: {consumo}\\nIva: {iva}\\nTotal: {total}\")\n",
        "    else:\n",
        "        consumo = (m3 * 10)\n",
        "        iva = consumo * 0.16\n",
        "        total = consumo + iva\n",
        "        print(f\"Subtotal: {consumo}\\nIva: {iva}\\nTotal: {total}\")"
      ],
      "metadata": {
        "id": "ROg0nsRyA0M9",
        "colab": {
          "base_uri": "https://localhost:8080/"
        },
        "outputId": "3443e8e8-f8f4-4fd5-99ef-a3e3700caac1"
      },
      "execution_count": 3,
      "outputs": [
        {
          "output_type": "stream",
          "name": "stdout",
          "text": [
            "Dame la cantidad de M3 de agua consumidos para darte el total a pagar50\n",
            "Subtotal: 500\n",
            "Iva: 80.0\n",
            "Total: 580.0\n"
          ]
        }
      ]
    },
    {
      "cell_type": "markdown",
      "source": [
        "4- En la materia de Metodología de la programación se aplican 5 exámenes, calcular el promedio final de la materia donde la calificación menor de los exámenes se anula y el promedio se calcula en base a 4 exámenes.\n",
        "\n",
        "Desplegar el promedio final. y cual es la mas baja que se elimino."
      ],
      "metadata": {
        "id": "qbBlZQDQA0fN"
      }
    },
    {
      "cell_type": "code",
      "source": [
        "import random\n",
        "n = 5\n",
        "def listaAleatorios(n):\n",
        "      lista = [0]  * n\n",
        "      for i in range(5):\n",
        "          lista[i] = random.randrange(0,100,10)\n",
        "      return lista\n",
        "lista = listaAleatorios\n",
        "lista_ordenada= sorted(lista)\n",
        "promedio = sum(lista[1:]) / 4\n",
        "print(promedio)"
      ],
      "metadata": {
        "id": "4_kanBSXA2nm",
        "colab": {
          "base_uri": "https://localhost:8080/",
          "height": 245
        },
        "outputId": "a33740c2-0c96-4cde-a90d-0e2122ffa59f"
      },
      "execution_count": 26,
      "outputs": [
        {
          "output_type": "error",
          "ename": "TypeError",
          "evalue": "ignored",
          "traceback": [
            "\u001b[0;31m---------------------------------------------------------------------------\u001b[0m",
            "\u001b[0;31mTypeError\u001b[0m                                 Traceback (most recent call last)",
            "\u001b[0;32m<ipython-input-26-1e317fabe2c4>\u001b[0m in \u001b[0;36m<cell line: 9>\u001b[0;34m()\u001b[0m\n\u001b[1;32m      7\u001b[0m       \u001b[0;32mreturn\u001b[0m \u001b[0mlista\u001b[0m\u001b[0;34m\u001b[0m\u001b[0;34m\u001b[0m\u001b[0m\n\u001b[1;32m      8\u001b[0m \u001b[0mlista\u001b[0m \u001b[0;34m=\u001b[0m \u001b[0mlistaAleatorios\u001b[0m\u001b[0;34m\u001b[0m\u001b[0;34m\u001b[0m\u001b[0m\n\u001b[0;32m----> 9\u001b[0;31m \u001b[0mlista_ordenada\u001b[0m\u001b[0;34m=\u001b[0m \u001b[0msorted\u001b[0m\u001b[0;34m(\u001b[0m\u001b[0mlista\u001b[0m\u001b[0;34m)\u001b[0m\u001b[0;34m\u001b[0m\u001b[0;34m\u001b[0m\u001b[0m\n\u001b[0m\u001b[1;32m     10\u001b[0m \u001b[0mpromedio\u001b[0m \u001b[0;34m=\u001b[0m \u001b[0msum\u001b[0m\u001b[0;34m(\u001b[0m\u001b[0mlista\u001b[0m\u001b[0;34m[\u001b[0m\u001b[0;36m1\u001b[0m\u001b[0;34m:\u001b[0m\u001b[0;34m]\u001b[0m\u001b[0;34m)\u001b[0m \u001b[0;34m/\u001b[0m \u001b[0;36m4\u001b[0m\u001b[0;34m\u001b[0m\u001b[0;34m\u001b[0m\u001b[0m\n\u001b[1;32m     11\u001b[0m \u001b[0mprint\u001b[0m\u001b[0;34m(\u001b[0m\u001b[0mpromedio\u001b[0m\u001b[0;34m)\u001b[0m\u001b[0;34m\u001b[0m\u001b[0;34m\u001b[0m\u001b[0m\n",
            "\u001b[0;31mTypeError\u001b[0m: 'function' object is not iterable"
          ]
        }
      ]
    },
    {
      "cell_type": "markdown",
      "source": [
        "5.- Programa en Python que sirva para el juego del CHINCHAMPU (Piedra, Papel, Tijera) para 1 jugador y la computadora\n",
        "\n"
      ],
      "metadata": {
        "id": "2yTQobmsA25V"
      }
    },
    {
      "cell_type": "code",
      "source": [
        "import random\n",
        "try:\n",
        "    opciones = [\"piedra\", \"papel\", \"tijera\"]\n",
        "    opcion_jugador = input(\"Elige piedra, papel o tijera: \")\n",
        "except:\n",
        "     print(\"No escogiste una de las opciones\")\n",
        "\n",
        "opcion_computadora = random.choice(opciones)\n",
        "print(\"La computadora eligió:\",opcion_computadora)\n",
        "if opcion_jugador == opcion_computadora:\n",
        "    print(\"Empate!\")\n",
        "elif opcion_jugador == \"piedra\":\n",
        "    if opcion_computadora == \"tijera\":\n",
        "        print(\"Ganaste!\")\n",
        "    else:\n",
        "        print(\"Perdiste!\")\n",
        "elif opcion_jugador == \"papel\":\n",
        "    if opcion_computadora == \"piedra\":\n",
        "        print(\"Ganaste!\")\n",
        "    else:\n",
        "        print(\"Perdiste!\")\n",
        "elif opcion_jugador == \"tijera\":\n",
        "    if opcion_computadora == \"papel\":\n",
        "        print(\"Ganaste!\")\n",
        "    else:\n",
        "        print(\"Perdiste!\")\n",
        "else:\n",
        "    print(\"Opción inválida, intenta de nuevo.\")"
      ],
      "metadata": {
        "id": "4g2BIWqfA5pt",
        "colab": {
          "base_uri": "https://localhost:8080/"
        },
        "outputId": "d24ea7bb-559b-4c36-ee38-a295fd363459"
      },
      "execution_count": 6,
      "outputs": [
        {
          "output_type": "stream",
          "name": "stdout",
          "text": [
            "Elige piedra, papel o tijera: caballo\n",
            "La computadora eligió: piedra\n",
            "Opción inválida, intenta de nuevo.\n"
          ]
        }
      ]
    },
    {
      "cell_type": "markdown",
      "source": [
        "6.- Programa en Python que lea 4 números enteros desplegar cuales el menor, cual es mayor"
      ],
      "metadata": {
        "id": "9gNrIuT3A6Bd"
      }
    },
    {
      "cell_type": "code",
      "source": [
        "print(\"Dame 4 numero enteros\")\n",
        "try:\n",
        "    num1 = int(input(\"Numero 1: \"))\n",
        "    num2 = int(input(\"Numero 2: \"))\n",
        "    num3 = int(input(\"Numero 3: \"))\n",
        "    num4 = int(input(\"Numero 4: \"))\n",
        "except:\n",
        "    print(\"Algo hiciste mal, intentalo de nuevo\")\n",
        "else:\n",
        "    if num1 > num2:\n",
        "        if num1 > num3:\n",
        "            if num1 > num4:\n",
        "                if num2 > num3:\n",
        "                    if num2 > num4:\n",
        "                        if num3 > num4:\n",
        "                            mayor = num1\n",
        "                            menor = num4\n",
        "                        else:\n",
        "                            mayor = num1\n",
        "                            menor = num3\n",
        "                    else:\n",
        "                        mayor = num1\n",
        "                        menor = num2\n",
        "                else:\n",
        "                    mayor = num1\n",
        "                    menor = num2\n",
        "            else:\n",
        "                mayor = num4\n",
        "                menor = num3\n",
        "        else:\n",
        "            mayor = num3\n",
        "            menor = num2\n",
        "    else:\n",
        "        if num2 > num3:\n",
        "            if num2 > num4:\n",
        "                if num3 > num4:\n",
        "                    if num1 > num3:\n",
        "                        if num1 > num4:\n",
        "                           mayor = num2\n",
        "                           menor = num4\n",
        "                        else:\n",
        "                           mayor = num2\n",
        "                           menor = num3\n",
        "                    else:\n",
        "                        mayor = num2\n",
        "                        menor = num1\n",
        "                else:\n",
        "                    mayor = num2\n",
        "                    menor = num4\n",
        "            else:\n",
        "                mayor = num4\n",
        "                menor = num3\n",
        "        else:\n",
        "            mayor = num3\n",
        "            menor = num1\n",
        "    print(f\"El numero mayor es: {mayor}\\nEl numero menor es: {menor}\")\n"
      ],
      "metadata": {
        "colab": {
          "base_uri": "https://localhost:8080/"
        },
        "id": "PERVg0sIA8Wl",
        "outputId": "9f6b5445-6756-40d2-bfb2-f631be25e967"
      },
      "execution_count": null,
      "outputs": [
        {
          "output_type": "stream",
          "name": "stdout",
          "text": [
            "Dame 4 numero enteros\n",
            "Numero 1: 8\n",
            "Numero 2: 6\n",
            "Numero 3: 7\n",
            "Numero 4: 5\n",
            "El numero mayor es: 8\n",
            "El numero menor es: 6\n"
          ]
        }
      ]
    },
    {
      "cell_type": "markdown",
      "source": [
        "7.- Programa en Python que sirva para calcular el área de un triangulo, los datos de entrada deben ser forzosamente de tipo real"
      ],
      "metadata": {
        "id": "m4XJGArGA8lt"
      }
    },
    {
      "cell_type": "code",
      "source": [
        "import numpy as np\n",
        "try:\n",
        "    base = float(input(\"Dame la base del triangulo\\n\"))\n",
        "    altura = float(input(\"Dame la altura del triangulo\\n\"))\n",
        "    area_del_triangulo = (base * altura)/2\n",
        "except:\n",
        "    print(\"Algo hiciste mal, intenta de nuevo\")\n",
        "else:\n",
        "    print(f\"El area del triangulo es de: {area_del_triangulo}\")"
      ],
      "metadata": {
        "colab": {
          "base_uri": "https://localhost:8080/"
        },
        "id": "doLHkDlpA-ON",
        "outputId": "476cff2c-5198-4795-9c57-0653d07f7bac"
      },
      "execution_count": null,
      "outputs": [
        {
          "output_type": "stream",
          "name": "stdout",
          "text": [
            "Dame la base del triangulo\n",
            "fadsf\n",
            "Algo hiciste mal, intenta de nuevo\n"
          ]
        }
      ]
    },
    {
      "cell_type": "markdown",
      "source": [
        "8.- Programa en Python que sirva para calcular el área de un circulo\n",
        "\n"
      ],
      "metadata": {
        "id": "l5OzsAdLA-iG"
      }
    },
    {
      "cell_type": "code",
      "source": [
        "import numpy as np\n",
        "try:\n",
        "    radio = int(input(\"Dame el radio del circulo\\n\"))\n",
        "    area_del_circulo = (np.pi * radio)**2\n",
        "\n",
        "except:\n",
        "  print(\"Hiciste algo mal, intente de nuevo\")\n",
        "else:\n",
        "    print(f\"El area del circulo es de: {area_del_circulo}\")\n"
      ],
      "metadata": {
        "colab": {
          "base_uri": "https://localhost:8080/"
        },
        "id": "uyk1VkKDBArs",
        "outputId": "c87b41e6-0cf6-40c8-a1c3-7fe54925a757"
      },
      "execution_count": null,
      "outputs": [
        {
          "output_type": "stream",
          "name": "stdout",
          "text": [
            "Dame el radio del circulo\n",
            "dfgh\n",
            "Hiciste algo mal, intente de nuevo\n"
          ]
        }
      ]
    }
  ]
}