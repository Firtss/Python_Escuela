{
  "nbformat": 4,
  "nbformat_minor": 0,
  "metadata": {
    "colab": {
      "provenance": [],
      "authorship_tag": "ABX9TyMrxxi2BN720bD8rejFeRNc",
      "include_colab_link": true
    },
    "kernelspec": {
      "name": "python3",
      "display_name": "Python 3"
    },
    "language_info": {
      "name": "python"
    }
  },
  "cells": [
    {
      "cell_type": "markdown",
      "metadata": {
        "id": "view-in-github",
        "colab_type": "text"
      },
      "source": [
        "<a href=\"https://colab.research.google.com/github/Firtss/Python_Escuela/blob/main/ACT2.ipynb\" target=\"_parent\"><img src=\"https://colab.research.google.com/assets/colab-badge.svg\" alt=\"Open In Colab\"/></a>"
      ]
    },
    {
      "cell_type": "markdown",
      "source": [
        "# Problema 1"
      ],
      "metadata": {
        "id": "6smwCmJwBiqp"
      }
    },
    {
      "cell_type": "code",
      "execution_count": null,
      "metadata": {
        "colab": {
          "base_uri": "https://localhost:8080/"
        },
        "id": "wMLZO8KW6VVz",
        "outputId": "0a0b4bdc-51f7-4702-8e4b-f6e91d04bf30"
      },
      "outputs": [
        {
          "output_type": "stream",
          "name": "stdout",
          "text": [
            "Humano vas a ingresar dos numero:\n",
            "Numero 1:5\n",
            "Numero 2:10\n",
            "Humano el numero 10 es mayor que 5\n"
          ]
        }
      ],
      "source": [
        "print(\"Dame dos numeros:\")\n",
        "n1=int(input(\"Numero 1:\"))\n",
        "n2=int(input(\"Numero 2:\"))\n",
        "if n1>n2:\n",
        "    print(f\"El numero {n1} es mayor que {n2}\")\n",
        "if n1<n2:\n",
        "    print(f\"El numero {n2} es mayor que {n1}\")\n"
      ]
    },
    {
      "cell_type": "markdown",
      "source": [
        "# Problema 2"
      ],
      "metadata": {
        "id": "ge0NZvr0Bn1Z"
      }
    },
    {
      "cell_type": "code",
      "source": [
        "print(\"Dame 4 calificaciones\")\n",
        "cal1 = int(input(\"Calificacion 1: \"))\n",
        "cal2 = int(input(\"Calificacion 2: \"))\n",
        "cal3 = int(input(\"Calificacion 3: \"))\n",
        "cal4 = int(input(\"Calificacion 4: \"))\n",
        "prom = (cal1 + cal2 + cal3 + cal4)/4\n",
        "print(f\"Tu promedio es de {prom}\")\n",
        "if prom >= 60:\n",
        "    print(\"APROBADO\")\n",
        "if prom < 60:\n",
        "    print(\"REPROBADO\")"
      ],
      "metadata": {
        "colab": {
          "base_uri": "https://localhost:8080/"
        },
        "id": "1T-2MJA8Bsej",
        "outputId": "6322ee70-9aa7-4c20-eb6d-fae6e929d518"
      },
      "execution_count": null,
      "outputs": [
        {
          "output_type": "stream",
          "name": "stdout",
          "text": [
            "Dame 4 calificaciones\n",
            "Calificacion 1: 90\n",
            "Calificacion 2: 0\n",
            "Calificacion 3: 0\n",
            "Calificacion 4: 0\n",
            "Tu promedio es de 22.5\n",
            "REPROBADO\n"
          ]
        }
      ]
    },
    {
      "cell_type": "markdown",
      "source": [
        "# Problema 3"
      ],
      "metadata": {
        "id": "gz9N_QIIEVRW"
      }
    },
    {
      "cell_type": "code",
      "source": [
        "print(\"Eres Hombre o Mujer?\")\n",
        "sexo = str(input())\n",
        "if sexo == \"Hombre\":\n",
        "    print(\"Eres un Hombre\")\n",
        "if sexo == \"Mujer\":\n",
        "    print(\"Eres Mujer\")"
      ],
      "metadata": {
        "colab": {
          "base_uri": "https://localhost:8080/"
        },
        "id": "mmT0NMRJEX7v",
        "outputId": "f3bfad14-3202-41cf-cd72-f19227f57f09"
      },
      "execution_count": null,
      "outputs": [
        {
          "output_type": "stream",
          "name": "stdout",
          "text": [
            "Eres Hombre o Mujer?\n",
            "Mujer\n",
            "Eres mujer\n"
          ]
        }
      ]
    },
    {
      "cell_type": "markdown",
      "source": [
        "# Problema 4"
      ],
      "metadata": {
        "id": "uDd7iWWNG44z"
      }
    },
    {
      "cell_type": "code",
      "source": [
        "num = int(input(\"Dame un numero entero\"))\n",
        "if num % 2 == 0:\n",
        "    print(\"El numero es par\")\n",
        "if num % 2 == 1:\n",
        "    print(\"El numero es impar\")"
      ],
      "metadata": {
        "colab": {
          "base_uri": "https://localhost:8080/"
        },
        "id": "rJNtUALiG7Zy",
        "outputId": "20953b55-eaec-4a09-bdf0-cfed5eab115b"
      },
      "execution_count": null,
      "outputs": [
        {
          "output_type": "stream",
          "name": "stdout",
          "text": [
            "Dame un numero entero5\n",
            "El numero es impar\n"
          ]
        }
      ]
    },
    {
      "cell_type": "markdown",
      "source": [
        "# Problema 5"
      ],
      "metadata": {
        "id": "Rz-cDG6kIEnS"
      }
    },
    {
      "cell_type": "code",
      "source": [
        "print(\"Dame dos numeros:\")\n",
        "n1=int(input(\"Numero 1:\"))\n",
        "n2=int(input(\"Numero 2:\"))\n",
        "if n1==n2:\n",
        "    print(\"Los 2 numeros son iguales\")\n",
        "elif n1>n2:\n",
        "    print(f\"El numero {n1} es mayor que {n2}\")\n",
        "else:\n",
        "    print(f\"El numero {n2} es mayor que {n1}\")"
      ],
      "metadata": {
        "id": "zbw3ZQRkIG5x",
        "colab": {
          "base_uri": "https://localhost:8080/"
        },
        "outputId": "1b792e89-1b92-4611-e5d0-1b52df809a84"
      },
      "execution_count": null,
      "outputs": [
        {
          "output_type": "stream",
          "name": "stdout",
          "text": [
            "Dame dos numeros:\n",
            "Numero 1:5\n",
            "Numero 2:10\n",
            "El numero 10 es mayor que 5\n"
          ]
        }
      ]
    },
    {
      "cell_type": "markdown",
      "source": [
        "# Problema 6"
      ],
      "metadata": {
        "id": "myTZhD_AJIWB"
      }
    },
    {
      "cell_type": "code",
      "source": [
        "print(\"Dame 4 calificaciones\")\n",
        "cal1 = int(input(\"Calificacion 1: \"))\n",
        "cal2 = int(input(\"Calificacion 2: \"))\n",
        "cal3 = int(input(\"Calificacion 3: \"))\n",
        "cal4 = int(input(\"Calificacion 4: \"))\n",
        "prom = (cal1 + cal2 + cal3 + cal4)/4\n",
        "print(f\"Tu promedio es de {prom}\")\n",
        "if prom >= 60:\n",
        "    print(\"APROBADO\")\n",
        "else:\n",
        "    print(\"REPROBADO4\")"
      ],
      "metadata": {
        "id": "NDBax6wyJK3f",
        "colab": {
          "base_uri": "https://localhost:8080/"
        },
        "outputId": "1e461449-1ab4-4a1c-b37f-f19283481ec6"
      },
      "execution_count": null,
      "outputs": [
        {
          "output_type": "stream",
          "name": "stdout",
          "text": [
            "Dame 4 calificaciones\n",
            "Calificacion 1: 90\n",
            "Calificacion 2: 90\n",
            "Calificacion 3: 50\n",
            "Calificacion 4: 70\n",
            "Tu promedio es de 75.0\n",
            "APROBADO\n"
          ]
        }
      ]
    },
    {
      "cell_type": "markdown",
      "source": [
        "# Problema 7"
      ],
      "metadata": {
        "id": "G-o8uvcuJOlP"
      }
    },
    {
      "cell_type": "code",
      "source": [
        "print(\"Eres Hombre o Mujer?\")\n",
        "sexo = str(input())\n",
        "if sexo == \"Hombre\":\n",
        "    print(\"Eres un Hombre\")\n",
        "else:\n",
        "    print(\"Eres Mujer\")"
      ],
      "metadata": {
        "id": "TW85ix8aJQZv",
        "colab": {
          "base_uri": "https://localhost:8080/"
        },
        "outputId": "dc2b3e03-a19c-44d5-8904-9d466219594e"
      },
      "execution_count": null,
      "outputs": [
        {
          "output_type": "stream",
          "name": "stdout",
          "text": [
            "Eres Hombre o Mujer?\n",
            "Hombre\n",
            "Eres un Hombre\n"
          ]
        }
      ]
    },
    {
      "cell_type": "markdown",
      "source": [
        "# Problema 8"
      ],
      "metadata": {
        "id": "phGqjo_GJS-v"
      }
    },
    {
      "cell_type": "code",
      "source": [
        "num = int(input(\"Dame un numero entero\"))\n",
        "if num % 2 == 0:\n",
        "    print(\"El numero es par\")\n",
        "else:\n",
        "    print(\"El numero es impar\")"
      ],
      "metadata": {
        "id": "xvlQnoK3JWMH",
        "colab": {
          "base_uri": "https://localhost:8080/"
        },
        "outputId": "3fd10045-0f13-49ca-a2bd-9dbdcb5bb87c"
      },
      "execution_count": null,
      "outputs": [
        {
          "output_type": "stream",
          "name": "stdout",
          "text": [
            "Dame un numero entero5\n",
            "El numero es impar\n"
          ]
        }
      ]
    }
  ]
}