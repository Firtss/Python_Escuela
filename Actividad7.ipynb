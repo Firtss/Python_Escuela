{
  "nbformat": 4,
  "nbformat_minor": 0,
  "metadata": {
    "colab": {
      "provenance": [],
      "authorship_tag": "ABX9TyNCH3XTSshN5rZpDKblD2dw",
      "include_colab_link": true
    },
    "kernelspec": {
      "name": "python3",
      "display_name": "Python 3"
    },
    "language_info": {
      "name": "python"
    }
  },
  "cells": [
    {
      "cell_type": "markdown",
      "metadata": {
        "id": "view-in-github",
        "colab_type": "text"
      },
      "source": [
        "<a href=\"https://colab.research.google.com/github/Firtss/Python_Escuela/blob/main/Actividad7.ipynb\" target=\"_parent\"><img src=\"https://colab.research.google.com/assets/colab-badge.svg\" alt=\"Open In Colab\"/></a>"
      ]
    },
    {
      "cell_type": "markdown",
      "source": [
        "1.- Función que utilice una lista con los nombres de tus mascotas, o artistas favoritos, (minimo 5, maximo 10) imprimir las cadenas y la cantidad de caracteres de cada cadena.  \n",
        "\n",
        "EJEMPLO SALIDA:\n",
        "\n",
        "[0]SCARLETT --> 8 CARACTERES\n",
        "\n",
        "[1]GATINA --> 6 CARACTERES\n",
        "\n",
        "[2]PELUSA --> 6 CARACTERES\n",
        "\n",
        "[3]PELUSINA --> 8 CARACTERES\n",
        "\n",
        "[4]MILO --> 4 CARACTERES\n",
        "\n",
        "[5]KHALIFA --> 7 CARACTERES"
      ],
      "metadata": {
        "id": "-0d-LrFRJ2IG"
      }
    },
    {
      "cell_type": "code",
      "execution_count": null,
      "metadata": {
        "colab": {
          "base_uri": "https://localhost:8080/"
        },
        "id": "kSLIwQCLJorn",
        "outputId": "0ceef8e2-c004-4d2a-ec3b-fbdd27951139"
      },
      "outputs": [
        {
          "output_type": "stream",
          "name": "stdout",
          "text": [
            " [0]GOKU --> 4 CARACTERES\n",
            " [1]KRILLIN --> 7 CARACTERES\n",
            " [2]MILES --> 5 CARACTERES\n",
            " [3]WENAMETCHUINDESAMA --> 18 CARACTERES\n",
            " [4]SIMON --> 5 CARACTERES\n"
          ]
        }
      ],
      "source": [
        "lista=[\"GOKU\",\"KRILLIN\",\"MILES\",\"WENAMETCHUINDESAMA\",\"SIMON\"]\n",
        "i=0\n",
        "\n",
        "for cadena in lista:\n",
        "    print (f\" {[i]}{cadena} --> {len(cadena)} CARACTERES\")\n",
        "    i=i+1\n"
      ]
    },
    {
      "cell_type": "markdown",
      "source": [
        "2.- Programa que utilice 2 funciones,\n",
        "\n",
        "Función que genere y regrese una lista con 10 números aleatorios entre el 30 y 50 (no repetidos).\n",
        "Función que reciba una lista , Imprimir la lista (Indice y Valor )\n",
        "\n",
        "\n",
        " Mandar llamar la función e imprimir toda la lista."
      ],
      "metadata": {
        "id": "VCJA84cdJ4P1"
      }
    },
    {
      "cell_type": "code",
      "source": [
        "import random\n",
        "def listaAleatorios():\n",
        "      lista1 = [0] * 10\n",
        "      for i in range(10):\n",
        "          lista1[i] = random.randint(30,50)\n",
        "          set(lista1)\n",
        "      return lista1\n",
        "i = 0\n",
        "aleatorios=list(listaAleatorios())\n",
        "for cadena in aleatorios:\n",
        "    print(f\"  {[i]}{cadena}\")\n",
        "    i = i+1\n"
      ],
      "metadata": {
        "colab": {
          "base_uri": "https://localhost:8080/"
        },
        "id": "TzCJUgt8J8QO",
        "outputId": "af141bc0-2944-4e36-d29b-537c114116b0"
      },
      "execution_count": null,
      "outputs": [
        {
          "output_type": "stream",
          "name": "stdout",
          "text": [
            "  [0]43\n",
            "  [1]41\n",
            "  [2]35\n",
            "  [3]47\n",
            "  [4]32\n",
            "  [5]42\n",
            "  [6]31\n",
            "  [7]39\n",
            "  [8]31\n",
            "  [9]32\n"
          ]
        }
      ]
    },
    {
      "cell_type": "markdown",
      "source": [
        "3.- Escribe una función que reciba dos listas de números del mismo tamaño y calcule la suma de los elementos correspondientes de cada lista. (regresar una nueva lista) . Luego, muestra una lista con los resultados de cada suma. Nota: si las listas no son del mismo tamaño mandar msge y utilizar el tamaño de la lista mas pequeña)\n",
        "\n"
      ],
      "metadata": {
        "id": "GGC8eJQqJ8ld"
      }
    },
    {
      "cell_type": "code",
      "source": [
        "import random\n",
        "def listaAle1():\n",
        "      n = random.randint(0,10)\n",
        "      lista1 = [0] * n\n",
        "      for i in range(n):\n",
        "          lista1[i] = random.randint(30,50)\n",
        "          set(lista1)\n",
        "      return lista1\n",
        "def listaAle2():\n",
        "      n = random.randint(0,10)\n",
        "      lista2 = [0] * n\n",
        "      for i in range(n):\n",
        "          lista2[i] = random.randint(30,50)\n",
        "          set(lista2)\n",
        "      return lista2\n",
        "alea1=list(listaAle1())\n",
        "alea2=list(listaAle2())\n",
        "cant1 = len(alea1)\n",
        "cant2 = len(alea2)\n",
        "\n",
        "if cant1 != cant2:\n",
        "    if cant1 > cant2:\n",
        "      print(f\"La lista 1 {alea2} es la menor con la cantidad de {cant2}\")\n",
        "    else:\n",
        "      print(f\"La lista 2 {alea1} es la menor con la cantidad de {cant1}\")\n",
        "else:\n",
        "  suma_lista1 = sum(alea1)\n",
        "  suma_lista2 = sum(alea2)\n",
        "  suma_de_lista = suma_lista1 + suma_lista2\n",
        "  print(f\"La suma de las listas es: {suma_de_lista}\")"
      ],
      "metadata": {
        "colab": {
          "base_uri": "https://localhost:8080/"
        },
        "id": "eqzb9SiSRh8f",
        "outputId": "b27e2bf1-339c-4587-b6b2-abac9df43721"
      },
      "execution_count": null,
      "outputs": [
        {
          "output_type": "stream",
          "name": "stdout",
          "text": [
            "La suma de las listas es: 83\n"
          ]
        }
      ]
    },
    {
      "cell_type": "markdown",
      "source": [
        "4.- Escribe una función llamada eliminar_duplicados que reciba una lista como parámetro y elimine los elementos duplicados. El resultado debe ser una nueva lista sin duplicados. Pide al usuario que ingrese una lista y luego llama a la función eliminar_duplicados para mostrar la lista sin duplicados. (Solo Numeros enteros, validar)"
      ],
      "metadata": {
        "id": "8p09WtwTJ_sl"
      }
    },
    {
      "cell_type": "code",
      "source": [
        "import random\n",
        "listanum = []\n",
        "def eliminar_duplicados(listanum):\n",
        "  listanorep = list(set(listanum))\n",
        "  print(\"Estos son los numeros sin duplicar\")\n",
        "  listanorep.sort()\n",
        "  print(listanorep)\n",
        "\n",
        "for i in range(10):\n",
        "  listanum.append(int(input(\"Dame 10 numeros enteros:\")))\n",
        "\n",
        "listanum.sort()\n",
        "print(f\"Estos son numeros repetidos de tu lista\\n{listanum}\")\n",
        "eliminar_duplicados(listanum)\n"
      ],
      "metadata": {
        "id": "eL3IHHQqKCUs",
        "colab": {
          "base_uri": "https://localhost:8080/"
        },
        "outputId": "af620cd6-7ce0-4523-802a-bb55a5da786b"
      },
      "execution_count": null,
      "outputs": [
        {
          "output_type": "stream",
          "name": "stdout",
          "text": [
            "Dame 5 numeros enteros:11\n",
            "Dame 5 numeros enteros:5\n",
            "Dame 5 numeros enteros:13\n",
            "Dame 5 numeros enteros:5\n",
            "Dame 5 numeros enteros:20\n",
            "Dame 5 numeros enteros:15\n",
            "Dame 5 numeros enteros:5\n",
            "Dame 5 numeros enteros:2\n",
            "Dame 5 numeros enteros:1\n",
            "Dame 5 numeros enteros:0\n",
            "Estos son numeros repetidos de tu lista\n",
            "[0, 1, 2, 5, 5, 5, 11, 13, 15, 20]\n",
            "Estos son los numeros sin duplicar\n",
            "[0, 1, 2, 5, 11, 13, 15, 20]\n"
          ]
        }
      ]
    },
    {
      "cell_type": "markdown",
      "source": [
        "5.- Escribe una función que calcule la media y la mediana de una lista de números enteros.\n",
        "\n",
        "La media es la suma de todos los elementos y dividido entre la cantidad de elementos\n",
        "\n",
        "La mediana es el valor que queda en la mitad de la lista cuando se ordena de forma ascendente. Si la lista tiene un número par de elementos, la mediana se calcula como el promedio de los dos valores centrales. Puedes utilizar el método sort() para ordenar la lista y luego calcular la mediana según el tamaño de la lista."
      ],
      "metadata": {
        "id": "qqXgHZHDKCvs"
      }
    },
    {
      "cell_type": "code",
      "source": [
        "import random\n",
        "import numpy as np\n",
        "def ListaA():\n",
        "      lista = [0] * 25\n",
        "      for i in range(25):\n",
        "          lista[i] = random.randint(0,100)\n",
        "          set(lista)\n",
        "      return lista\n",
        "def listamedia(Alea):\n",
        "  Alea.sort()\n",
        "  mean = np.mean(Alea)\n",
        "  print(f\"La media de la lista es de: {mean}\")\n",
        "def listamediana(Alea):\n",
        "  Alea.sort()\n",
        "  median = np.median(Alea)\n",
        "  print(f\"La mediana de la lista es de: {median}\")\n",
        "\n",
        "Alea=list(ListaA())\n",
        "Alea.sort()\n",
        "print(Alea)\n",
        "listamedia(Alea)\n",
        "listamediana(Alea)"
      ],
      "metadata": {
        "id": "_2N9-HgLKE-8",
        "colab": {
          "base_uri": "https://localhost:8080/"
        },
        "outputId": "5c27ab25-71b1-4807-9736-5a33481df6bc"
      },
      "execution_count": null,
      "outputs": [
        {
          "output_type": "stream",
          "name": "stdout",
          "text": [
            "[0, 7, 12, 29, 33, 34, 35, 37, 40, 45, 47, 49, 52, 57, 59, 66, 70, 72, 74, 78, 79, 83, 86, 98, 99]\n",
            "La media de la lista es de: 53.64\n",
            "La mediana de la lista es de: 52.0\n"
          ]
        }
      ]
    },
    {
      "cell_type": "markdown",
      "source": [
        "6.- Escribe una función que calcule la media móvil de una lista de números enteros. La media móvil es el promedio de un número determinado de elementos consecutivos de la lista. Puedes utilizar unciclo y una variable de suma para calcular la media móvil de cada sublista y guardar los resultados en otra lista."
      ],
      "metadata": {
        "id": "HuZ_il98KFTU"
      }
    },
    {
      "cell_type": "code",
      "source": [
        "import numpy as np\n",
        "def moving_average(x, w):\n",
        "    return np.convolve(x, np.ones(w), 'valid') / w\n",
        "\n",
        "data = np.array([10,5,8,9,15,22,26,11,15,16,18,7])\n",
        "\n",
        "print(moving_average(data,4))"
      ],
      "metadata": {
        "id": "-B6e_mEDKH30",
        "colab": {
          "base_uri": "https://localhost:8080/"
        },
        "outputId": "fbb8bed0-7b0f-481e-e024-ab6c3ec3c39f"
      },
      "execution_count": 2,
      "outputs": [
        {
          "output_type": "stream",
          "name": "stdout",
          "text": [
            "[ 8.    9.25 13.5  18.   18.5  18.5  17.   15.   14.  ]\n"
          ]
        }
      ]
    }
  ]
}