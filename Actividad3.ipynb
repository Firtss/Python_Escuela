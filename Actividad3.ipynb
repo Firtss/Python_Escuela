{
  "nbformat": 4,
  "nbformat_minor": 0,
  "metadata": {
    "colab": {
      "provenance": [],
      "authorship_tag": "ABX9TyPsVs9SnLYa008u/+AkA33a",
      "include_colab_link": true
    },
    "kernelspec": {
      "name": "python3",
      "display_name": "Python 3"
    },
    "language_info": {
      "name": "python"
    }
  },
  "cells": [
    {
      "cell_type": "markdown",
      "metadata": {
        "id": "view-in-github",
        "colab_type": "text"
      },
      "source": [
        "<a href=\"https://colab.research.google.com/github/Firtss/Python_Escuela/blob/main/Actividad3.ipynb\" target=\"_parent\"><img src=\"https://colab.research.google.com/assets/colab-badge.svg\" alt=\"Open In Colab\"/></a>"
      ]
    },
    {
      "cell_type": "markdown",
      "source": [
        "# Actividad 3\n",
        "## Control de flujo en python"
      ],
      "metadata": {
        "id": "ltxSiO9s958I"
      }
    },
    {
      "cell_type": "markdown",
      "source": [
        "# Ejercicio 1\n",
        "1.- Algoritmo que lea 3 calificaciones calcule el promedio del alumno y desplegar:\n",
        "\n",
        "Si prom < 30 Repetir\n",
        "\n",
        "Si prom >=30 y prom <60 extraordinario\n",
        "\n",
        "Si prom >=60 y prom <70 suficiente\n",
        "\n",
        "Si prom >=70 y prom <80 Regular\n",
        "\n",
        "Si prom >=80 y prom <90 bien\n",
        "\n",
        "Si prom >=90 y prom <98 muy bien\n",
        "\n",
        "Si prom >=98 y prom <=100 excelente\n",
        "\n",
        "Si prom >100 Error en promedio\n",
        "\n",
        "Realizar el algoritmo optimizado"
      ],
      "metadata": {
        "id": "4Y6Guelq-HhX"
      }
    },
    {
      "cell_type": "code",
      "execution_count": null,
      "metadata": {
        "colab": {
          "base_uri": "https://localhost:8080/"
        },
        "id": "GCb2RMlF9404",
        "outputId": "39c351a4-fcb2-4d9f-b122-f71bfb438544"
      },
      "outputs": [
        {
          "output_type": "stream",
          "name": "stdout",
          "text": [
            "Dame 3 calificaciones y te dare tu promedio\n",
            "Calificacion 1: 80\n",
            "Calificacion 2: 90\n",
            "Calificacion 3: 100\n",
            "Tu promedio es de 90.0\n",
            "Muy bien\n"
          ]
        }
      ],
      "source": [
        "print(\"Dame 3 calificaciones y te dare tu promedio\")\n",
        "cal1 = int(input(\"Calificacion 1: \"))\n",
        "cal2 = int(input(\"Calificacion 2: \"))\n",
        "cal3 = int(input(\"Calificacion 3: \"))\n",
        "prom = (cal1 + cal2 + cal3) / 3\n",
        "print(f\"Tu promedio es de {prom}\")\n",
        "if prom > 30:\n",
        "    if prom >= 98:\n",
        "       print(\"Excelente\")\n",
        "    else:\n",
        "        if prom >= 90:\n",
        "            print(\"Muy bien\")\n",
        "        else:\n",
        "            if prom >= 80:\n",
        "                print(\"Bien\")\n",
        "            else:\n",
        "                if prom >= 70:\n",
        "                    print(\"Regular\")\n",
        "                else:\n",
        "                    if prom >= 60:\n",
        "                        print(\"Suficiente\")\n",
        "                    else:\n",
        "                        if prom <60:\n",
        "                            print(\"Extraordinario\")\n",
        "                        else:\n",
        "                            if prom > 100:\n",
        "                                print(\"Error\")\n",
        "else:\n",
        "    print(\"Repetir\")"
      ]
    },
    {
      "cell_type": "markdown",
      "source": [
        "# Ejercicio 2\n",
        "2.- Algoritmo que sirva para calcular el salario semanal de un trabajador donde se obtiene como dato de entrada las horas semanales trabajadas, el salario por hora.\n",
        "\n",
        "El programa deberá calcular el salario normal, salario extra y salario total, considerando lo siguiente:\n",
        "\n",
        "Jornada Normal de 40 horas.\n",
        "El salario normal se considera las horas trabajadas menores o igual a la jornada normal\n",
        "Salario extra se considera las horas trabajadas mayores a la jornada normal y se pagan dobles las primeras 9 y triples a partir de la décima hora extra"
      ],
      "metadata": {
        "id": "XHREw3UWAqwS"
      }
    },
    {
      "cell_type": "code",
      "source": [
        "# El salario por hora lo manejare por 12 dolares la hora\n",
        "horas = int(input(\"Cuantas horas trabajaste durante la semana?\"))\n",
        "if horas <= 40:\n",
        "    salario = horas * 12\n",
        "    print(f\"Trabajaste {horas} de horas\\n ... \\nNo trabajaste horas extras\")\n",
        "    print(f\"La cantidad de salario que recibes es {salario}\")\n",
        "if horas > 40:\n",
        "    extra2 = horas - 40\n",
        "    if extra2 <= 9:\n",
        "        salarioextra = (extra2 * 2)* 12\n",
        "        salario = (40 * 12) + salarioextra\n",
        "        print(f\"Trabajaste {horas} de horas\\n ... \\nTrabajaste horas extras\")\n",
        "        print(f\"La cantidad de horas trabajadas es de {extra2}\")\n",
        "        print(f\"La cantidad de salario que recibes es {salario} dolares\")\n",
        "    else:\n",
        "        extra3 = extra2 - 9\n",
        "        salarioextra = ((extra2 * 2)+(extra3 * 3)) * 12\n",
        "        salario = (40 * 12) + salarioextra\n",
        "        print(f\"Trabajaste {horas} de horas\\n ... \\nTrabajaste horas extras\")\n",
        "        print(f\"La cantidad de horas dobles es de {9}\")\n",
        "        print(f\"La cantidad de horas triples es de {extra3}\")\n",
        "        print(f\"La cantidad de salario que recibes es {salario} dolares\")"
      ],
      "metadata": {
        "colab": {
          "base_uri": "https://localhost:8080/"
        },
        "id": "qyCOwytiA1qm",
        "outputId": "2936efa4-f3b6-43b4-e6e7-bac77a774a95"
      },
      "execution_count": null,
      "outputs": [
        {
          "output_type": "stream",
          "name": "stdout",
          "text": [
            "Cuantas horas trabajaste durante la semana?55\n",
            "Trabajaste 55 de horas\n",
            " ... \n",
            "Trabajaste horas extras\n",
            "La cantidad de horas dobles es de 9\n",
            "La cantidad de horas triples es de 6\n",
            "La cantidad de salario que recibes es 1056 dolares\n"
          ]
        }
      ]
    },
    {
      "cell_type": "markdown",
      "source": [
        "# Ejercicio 3\n",
        "3.- Algoritmo que sirva para desplegar el Total de una llamada telefónica donde se pide como datos de entrada los minutos y el tipo de llamada, se cobra de la siguiente manera:\n",
        "\n",
        "1.- Llamada Local 3.00 sin límite de tiempo\n",
        "\n",
        "2.- Llamada Nacional 7.00 por los 3 primeros minutos y $2.00 minuto adicional\n",
        "\n",
        "3.- Llamada Internacional 9.00 por los 2 primeros minutos y $4.00 minuto adicional\n",
        "\n",
        "Desplegar, Subtotal,Iva (16%) y Total."
      ],
      "metadata": {
        "id": "nPCWmEpxFb6U"
      }
    },
    {
      "cell_type": "code",
      "source": [
        "minutos = int(input(\"Cuantas minutos marco?\"))\n",
        "tipo = int(input(\"Cual tipo de llamada realizo?\\n\\t1-Local\\t 2-Nacional\\t3-Internacional\"))\n",
        "if tipo == 1:\n",
        "    print(\"Usted marco 1-Local\\nUsted tiene un sin limite de tiempo aunque se le cobrara $3.00 por minuto\")\n",
        "    costo = minutos * 3\n",
        "    Subtotal = costo\n",
        "    Iva = (16 * costo) / 100\n",
        "    Total = Subtotal + Iva\n",
        "    print(f\"Usted tiene un costo total de ${costo}\")\n",
        "    print(f\"Subtotal: {Subtotal}\\nIVA: {Iva}\\nTotal {Total}\")\n",
        "if tipo == 2:\n",
        "    print(\"Usted marco 2-Nacional\\nUsted tiene como maximo 3 minutos para hablar con el costo de $7.00\\nDespues de los 3 minutos se le cobrara un extra de $2.00 por minuto\")\n",
        "    minutosN= minutos - 3\n",
        "    if minutos > 3:\n",
        "        costo = (7 * 3) + (minutosN * 2)\n",
        "        Subtotal = costo\n",
        "        Iva = (16 * costo) / 100\n",
        "        Total = Subtotal + Iva\n",
        "    else:\n",
        "        costo = 7 * minutos\n",
        "        Subtotal = costo\n",
        "        Iva = (16 * costo) / 100\n",
        "        Total = Subtotal + Iva\n",
        "    print(f\"Usted tiene un costo total de ${costo}\")\n",
        "    print(f\"Subtotal: {Subtotal}\\nIVA: {Iva}\\nTotal {Total}\")\n",
        "if tipo == 3:\n",
        "    print(\"Usted marco 3-Internacional\\nUsted tiene un maximo de 2 minutos para hablar con el costo de $9.00\\nDespues de los 2 minutos se le cobrara un extra de $4.00 por minuto\")\n",
        "    minutosI= minutos - 2\n",
        "    if minutos > 2:\n",
        "        costo = (9 * 2) + (minutosI * 4)\n",
        "        Subtotal = costo\n",
        "        Iva = (16 * costo) / 100\n",
        "        Total = Subtotal + Iva\n",
        "    else:\n",
        "        costo = 9 * minutos\n",
        "        Subtotal = costo\n",
        "        Iva = (16 * costo) / 100\n",
        "        Total = Subtotal + Iva\n",
        "    print(f\"Usted tiene un costo total de ${costo}\")\n",
        "    print(f\"Subtotal: {Subtotal}\\nIVA: {Iva}\\nTotal {Total}\")\n"
      ],
      "metadata": {
        "colab": {
          "base_uri": "https://localhost:8080/"
        },
        "id": "G18aUzXiFn0c",
        "outputId": "288f9acb-c438-4070-fa4f-b99ecfcee344"
      },
      "execution_count": null,
      "outputs": [
        {
          "output_type": "stream",
          "name": "stdout",
          "text": [
            "Cuantas minutos marco?6\n",
            "Cual tipo de llamada realizo?\n",
            "\t1-Local\t 2-Nacional\t3-Internacional2\n",
            "Usted marco 2-Nacional\n",
            "Usted tiene como maximo 3 minutos para hablar con el costo de $7.00\n",
            "Despues de los 3 minutos se le cobrara un extra de $2.00 por minuto\n",
            "Usted tiene un costo total de $27\n",
            "Subtotal: 27\n",
            "IVA: 4.32\n",
            "Total 31.32\n"
          ]
        }
      ]
    },
    {
      "cell_type": "markdown",
      "source": [
        "# Ejercicio 4\n",
        "4.- Algoritmo que sirva para calcular el Total a pagar por consumo de agua, donde el dato de entrada son los M3 de agua consumidos, Tomar en cuenta que se cobra escalonada de la Siguiente manera:\n",
        "\n",
        "Rango1: 0 al 4 M3 $50 x facturación sin importar cuánto consumió en este rango\n",
        "\n",
        "Rango2: 5 a 15 M3 $8.00 x M3\n",
        "\n",
        "Rango3: 16 a 50 M3 $10.00 x M3\n",
        "\n",
        "Rango4: 51 M3 en adelante $11.00 x M3\n",
        "\n",
        "Nota: Desplegar SubTotal, Iva(16%), y Total a pagar."
      ],
      "metadata": {
        "id": "vTfybFjAJ8Qp"
      }
    },
    {
      "cell_type": "code",
      "source": [
        "m3 = int(input(\"Dame la cantidad de M3 de agua consumidos para darte el total a pagar\"))\n",
        "if m3 <= 15:\n",
        "    print(f\"Usted uso un total de {m3} M3\")\n",
        "    consumo = (m3 * 8)\n",
        "    iva = consumo * 0.16\n",
        "    total = consumo + iva\n",
        "    print(f\"Subtotal: {consumo}\\nIva: {iva}\\nTotal: {total}\")\n",
        "    if m3 <= 4:\n",
        "        consumo = (m3 * 50)\n",
        "        iva = consumo * 0.16\n",
        "        total = consumo + iva\n",
        "        print(f\"Subtotal: {consumo}\\nIva: {iva}\\nTotal: {total}\")\n",
        "else:\n",
        "    if m3 >= 51:\n",
        "        consumo = (m3 * 11)\n",
        "        iva = consumo * 0.16\n",
        "        total = consumo + iva\n",
        "        print(f\"Subtotal: {consumo}\\nIva: {iva}\\nTotal: {total}\")\n",
        "    else:\n",
        "        consumo = (m3 * 10)\n",
        "        iva = consumo * 0.16\n",
        "        total = consumo + iva\n",
        "        print(f\"Subtotal: {consumo}\\nIva: {iva}\\nTotal: {total}\")"
      ],
      "metadata": {
        "id": "lpvJEdzgKDiK",
        "colab": {
          "base_uri": "https://localhost:8080/"
        },
        "outputId": "a32b1383-888f-492f-db21-6584e9ce57ca"
      },
      "execution_count": null,
      "outputs": [
        {
          "output_type": "stream",
          "name": "stdout",
          "text": [
            "Dame la cantidad de M3 de agua consumidos para darte el total a pagar20\n",
            "Subtotal: 200\n",
            "Iva: 32.0\n",
            "Total: 232.0\n"
          ]
        }
      ]
    },
    {
      "cell_type": "markdown",
      "source": [
        "# Ejercicio 5\n",
        "En la materia de Metodología de la programación se aplican 5 exámenes, calcular el promedio final de la materia donde la calificación menor de los exámenes se anula y el promedio se calcula en base a 4 exámenes.\n",
        "\n",
        "Desplegar el promedio final."
      ],
      "metadata": {
        "id": "RWC3nUiEBNvX"
      }
    },
    {
      "cell_type": "code",
      "source": [
        "calificaciones = [100, 77, 98, 82, 99]\n",
        "calificaciones_ordenadas = sorted(calificaciones)\n",
        "promedio = sum(calificaciones_ordenadas[1:]) / 4\n",
        "print(promedio)"
      ],
      "metadata": {
        "id": "oUhXRu3GBMtj",
        "colab": {
          "base_uri": "https://localhost:8080/"
        },
        "outputId": "5e94311f-f9a3-4984-fccd-f2c194340031"
      },
      "execution_count": null,
      "outputs": [
        {
          "output_type": "stream",
          "name": "stdout",
          "text": [
            "94.75\n"
          ]
        }
      ]
    },
    {
      "cell_type": "markdown",
      "source": [
        "# Ejercicio 6\n",
        "Algoritmo que sirva para el juego del CHINCHAMPU (Piedra, Papel, Tijera) para 1 jugador y la computadora, (usar condición anidada)"
      ],
      "metadata": {
        "id": "5lu7VJNpBe7n"
      }
    },
    {
      "cell_type": "code",
      "source": [
        "import random\n",
        "opciones = [\"piedra\", \"papel\", \"tijera\"]\n",
        "opcion_jugador = input(\"Elige piedra, papel o tijera: \")\n",
        "opcion_computadora = random.choice(opciones)\n",
        "print(\"La computadora eligió:\",opcion_computadora)\n",
        "if opcion_jugador == opcion_computadora:\n",
        "    print(\"Empate!\")\n",
        "elif opcion_jugador == \"piedra\":\n",
        "    if opcion_computadora == \"tijera\":\n",
        "        print(\"Ganaste!\")\n",
        "    else:\n",
        "        print(\"Perdiste!\")\n",
        "elif opcion_jugador == \"papel\":\n",
        "    if opcion_computadora == \"piedra\":\n",
        "        print(\"Ganaste!\")\n",
        "    else:\n",
        "        print(\"Perdiste!\")\n",
        "elif opcion_jugador == \"tijera\":\n",
        "    if opcion_computadora == \"papel\":\n",
        "        print(\"Ganaste!\")\n",
        "    else:\n",
        "        print(\"Perdiste!\")\n",
        "else:\n",
        "    print(\"Opción inválida, intenta de nuevo.\")"
      ],
      "metadata": {
        "id": "MZ-usSwRB3eU",
        "colab": {
          "base_uri": "https://localhost:8080/"
        },
        "outputId": "a4316558-8d23-4410-f1c4-f2c9d57ca043"
      },
      "execution_count": null,
      "outputs": [
        {
          "output_type": "stream",
          "name": "stdout",
          "text": [
            "Elige piedra, papel o tijera: piedra\n",
            "La computadora eligió: tijera\n",
            "Ganaste!\n"
          ]
        }
      ]
    },
    {
      "cell_type": "markdown",
      "source": [
        "# Ejercicio 7\n",
        " Algoritmo que sirva para el juego del CHINCHAMPU (Piedra, Papel, Tijera) para 1 jugador y la computadora, (usar selección múltiple)"
      ],
      "metadata": {
        "id": "VCExGSBMBj7D"
      }
    },
    {
      "cell_type": "code",
      "source": [
        "import random\n",
        "print(\"Bienvenido al juego de piedra, papel o tijera\")\n",
        "print(\"Ingrese su jugada: \")\n",
        "jugada = input(\"piedra, papel o tijera: \").lower()\n",
        "if jugada != \"piedra\" and jugada != \"papel\" and jugada != \"tijera\":\n",
        "    print(\"Jugada no válida. Inténtalo de nuevo.\")\n",
        "else:\n",
        "    print(\"Jugador seleccionó:\", jugada)\n",
        "\n",
        "opciones = [\"piedra\", \"papel\", \"tijera\"]\n",
        "computadora = random.choice(opciones)\n",
        "print(\"Computadora seleccionó:\", computadora)\n",
        "if jugada == computadora:\n",
        "   print(\"Empate!\")\n",
        "elif jugada == \"piedra\":\n",
        "    if computadora == \"papel\":\n",
        "       print(\"La computadora gana!\")\n",
        "    else:\n",
        "       print(\"El jugador gana!\")\n",
        "elif jugada == \"papel\":\n",
        "    if computadora == \"tijera\":\n",
        "        print(\"La computadora gana!\")\n",
        "    else:\n",
        "        print(\"El jugador gana!\")\n",
        "else:\n",
        "    if computadora == \"piedra\": print(\"La computadora gana!\")\n",
        "    else:\n",
        "        print(\"El jugador gana!\")\n"
      ],
      "metadata": {
        "id": "QgqwO655B4Pr",
        "colab": {
          "base_uri": "https://localhost:8080/"
        },
        "outputId": "b4d45ceb-bf08-4089-99e9-274bd8d67b75"
      },
      "execution_count": null,
      "outputs": [
        {
          "output_type": "stream",
          "name": "stdout",
          "text": [
            "Bienvenido al juego de piedra, papel o tijera\n",
            "Ingrese su jugada: \n",
            "piedra, papel o tijera: piedra\n",
            "Jugador seleccionó: piedra\n",
            "Computadora seleccionó: tijera\n",
            "El jugador gana!\n"
          ]
        }
      ]
    },
    {
      "cell_type": "markdown",
      "source": [
        "# Ejercicio 8\n",
        " Una tienda de electrónica ofrece descuentos a sus clientes, dependiendo del tipo de producto que compren. Si el cliente compra una computadora, tiene un descuento del 5% en el precio de la computadora y un 10% de descuento en una impresora si la compra junto con la computadora. Si el cliente compra una televisión, tiene un descuento del 7% en el precio de la televisión y un 15% de descuento en una barra de sonido si la compra junto con la televisión. Si el cliente compra una consola de videojuegos, tiene un descuento del 10% en el precio de la consola y un 20% de descuento en un juego si lo compra junto con la consola. Escribe un programa que calcule el precio a pagar por un cliente, tomando en cuenta los descuentos correspondientes."
      ],
      "metadata": {
        "id": "yN6TGNCCBpAc"
      }
    },
    {
      "cell_type": "code",
      "source": [
        "precio_computadora = 1000\n",
        "precio_impresora = 200\n",
        "precio_television = 1500\n",
        "precio_barra_sonido = 300\n",
        "precio_consola = 800\n",
        "precio_juego = 100\n",
        "producto = input(\"¿Qué producto compró? (computadora, televisión, o consola): \")\n",
        "adicional = input(\"¿Compró algún producto adicional? (impresora, barra de sonido, o juego): \")\n",
        "descuento_producto = 0\n",
        "descuento_adicional = 0\n",
        "precio_total = 0\n",
        "if producto == \"computadora\":\n",
        "     descuento_producto = precio_computadora * 0.05\n",
        "     precio_total += precio_computadora - descuento_producto\n",
        "if adicional == \"impresora\":\n",
        "     descuento_adicional = precio_impresora * 0.10\n",
        "     precio_total += precio_impresora - descuento_adicional\n",
        "elif producto == \"televisión\":\n",
        "     descuento_producto = precio_television * 0.07\n",
        "     precio_total += precio_television - descuento_producto\n",
        "if adicional == \"barra de sonido\":\n",
        "     descuento_adicional = precio_barra_sonido * 0.15\n",
        "     precio_total += precio_barra_sonido - descuento_adicional\n",
        "elif producto == \"consola\":\n",
        "     descuento_producto = precio_consola * 0.10\n",
        "     precio_total += precio_consola - descuento_producto\n",
        "if adicional == \"juego\":\n",
        "     descuento_adicional = precio_juego * 0.20\n",
        "     precio_total += precio_juego - descuento_adicional\n",
        "\n",
        "print(f\"El precio total a pagar es: {precio_total:.2f}\")\n",
        "print(f\"El descuento del producto es: {descuento_producto:.2f}\")\n",
        "print(f\"El descuento del producto adicional es: {descuento_adicional:.2f}\")\n"
      ],
      "metadata": {
        "id": "gdSFIXDpB4pc",
        "colab": {
          "base_uri": "https://localhost:8080/"
        },
        "outputId": "ccd8f0fc-2ee9-4f46-e3ef-0ae3b7442ff1"
      },
      "execution_count": null,
      "outputs": [
        {
          "output_type": "stream",
          "name": "stdout",
          "text": [
            "¿Qué producto compró? (computadora, televisión, o consola): consola\n",
            "¿Compró algún producto adicional? (impresora, barra de sonido, o juego): juego\n",
            "El precio total a pagar es: 800.00\n",
            "El descuento del producto es: 80.00\n",
            "El descuento del producto adicional es: 20.00\n"
          ]
        }
      ]
    },
    {
      "cell_type": "markdown",
      "source": [
        "# Ejercicio 9\n",
        " En una tienda de ropa, los precios de los productos cambian dependiendo de la temporada. Durante la temporada de verano, todos los productos tienen un descuento del 20%. Durante la temporada de invierno, los productos con etiqueta roja tienen un descuento del 30% y los productos con etiqueta verde tienen un descuento del 15%. Durante la temporada de primavera y otoño, los productos con etiqueta amarilla tienen un descuento del 10%. Escribe un programa que calcule el precio a pagar por un cliente, tomando en cuenta los descuentos correspondientes."
      ],
      "metadata": {
        "id": "_BLz1dHeBtOi"
      }
    },
    {
      "cell_type": "code",
      "source": [
        "precio_camisa = 50\n",
        "precio_pantalon = 70\n",
        "precio_chamarra = 100\n",
        "precio_vestido = 80\n",
        "producto = input(\"¿Qué producto compró? (camisa, pantalon, chamarra, o vestido): \")\n",
        "etiqueta = input(\"¿Qué etiqueta tiene el producto? (roja, verde, amarilla, o ninguna): \")\n",
        "precio_con_descuento = 0\n",
        "temporada = input(\"¿En qué temporada se encuentra? (verano,invierno, primavera, otoño): \")\n",
        "##################################################################################\n",
        "if temporada == \"verano\":\n",
        "    if etiqueta == \"verde\" or etiqueta == \"rojo\" or etiqueta == \"amarilla\":\n",
        "        print (\"No hay etiquetas de ese color en esta temporada\\n\")\n",
        "        if producto == \"camisa\":\n",
        "             precio_con_descuento = precio_camisa * 0.8\n",
        "        if producto == \"pantalon\":\n",
        "            precio_con_descuento = precio_pantalon * 0.8\n",
        "        if producto == \"chamarra\":\n",
        "            precio_con_descuento = precio_chamarra * 0.8\n",
        "        if producto == \"vestido\":\n",
        "            precio_con_descuento = precio_vestido * 0.8\n",
        "    else:\n",
        "         if producto == \"camisa\":\n",
        "             precio_con_descuento = precio_camisa * 0.8\n",
        "         if producto == \"pantalon\":\n",
        "            precio_con_descuento = precio_pantalon * 0.8\n",
        "         if producto == \"chamarra\":\n",
        "            precio_con_descuento = precio_chamarra * 0.8\n",
        "         if producto == \"vestido\":\n",
        "            precio_con_descuento = precio_vestido * 0.8\n",
        "    if etiqueta == \"ninguna\":\n",
        "         if producto == \"camisa\":\n",
        "             precio_con_descuento = precio_camisa * 0.8\n",
        "         if producto == \"pantalon\":\n",
        "            precio_con_descuento = precio_pantalon * 0.8\n",
        "         if producto == \"chamarra\":\n",
        "            precio_con_descuento = precio_chamarra * 0.8\n",
        "         if producto == \"vestido\":\n",
        "            precio_con_descuento = precio_vestido * 0.8\n",
        "###################################################################################\n",
        "elif temporada == \"invierno\":\n",
        "    if etiqueta == \"ninguna\":\n",
        "        if producto == \"camisa\":\n",
        "           precio_con_descuento = precio_camisa\n",
        "        if producto == \"pantalon\":\n",
        "           precio_con_descuento = precio_pantalon\n",
        "        if producto == \"chamarra\":\n",
        "           precio_con_descuento = precio_chamarra\n",
        "        if producto == \"vestido\":\n",
        "           precio_con_descuento = precio_vestido\n",
        "    if etiqueta == \"roja\":\n",
        "        if producto == \"camisa\":\n",
        "           precio_con_descuento = precio_camisa * 0.7\n",
        "        if producto == \"pantalon\":\n",
        "           precio_con_descuento = precio_pantalon * 0.7\n",
        "        if producto == \"chamarra\":\n",
        "           precio_con_descuento = precio_chamarra * 0.7\n",
        "        if producto == \"vestido\":\n",
        "           precio_con_descuento = precio_vestido * 0.7\n",
        "    if etiqueta == \"verde\":\n",
        "        if producto == \"camisa\":\n",
        "           precio_con_descuento = precio_camisa * 0.85\n",
        "        if producto == \"pantalon\":\n",
        "           precio_con_descuento = precio_pantalon * 0.85\n",
        "        if producto == \"chamarra\":\n",
        "           precio_con_descuento = precio_chamarra * 0.85\n",
        "        if producto == \"vestido\":\n",
        "           precio_con_descuento = precio_vestido * 0.85\n",
        "    if etiqueta == \"amarilla\":\n",
        "        print(\"No hay etiqueta de ese color en esta temporada\\n\")\n",
        "        if producto == \"camisa\":\n",
        "           precio_con_descuento = precio_camisa\n",
        "        if producto == \"pantalon\":\n",
        "           precio_con_descuento = precio_pantalon\n",
        "        if producto == \"chamarra\":\n",
        "           precio_con_descuento = precio_chamarra\n",
        "        if producto == \"vestido\":\n",
        "           precio_con_descuento = precio_vestido\n",
        "##################################################################################\n",
        "elif temporada == \"primavera\" or temporada == \"otoño\":\n",
        "    if etiqueta == \"amarilla\":\n",
        "        if producto == \"camisa\":\n",
        "                precio_con_descuento = precio_camisa * 0.9\n",
        "        if producto == \"pantalon\":\n",
        "                precio_con_descuento = precio_pantalon * 0.9\n",
        "        if producto == \"chamarra\":\n",
        "                precio_con_descuento = precio_chamarra * 0.9\n",
        "        if producto == \"vestido\":\n",
        "               precio_con_descuento = precio_vestido * 0.9\n",
        "    if etiqueta == \"ninguna\":\n",
        "         if producto == \"camisa\":\n",
        "           precio_con_descuento = precio_camisa\n",
        "         if producto == \"pantalon\":\n",
        "           precio_con_descuento = precio_pantalon\n",
        "         if producto == \"chamarra\":\n",
        "           precio_con_descuento = precio_chamarra\n",
        "         if producto == \"vestido\":\n",
        "           precio_con_descuento = precio_vestido\n",
        "    if etiqueta == \"roja\":\n",
        "        print(\"No hay etiqueta de ese color en esta temporada\\n\")\n",
        "        if producto == \"camisa\":\n",
        "           precio_con_descuento = precio_camisa\n",
        "        if producto == \"pantalon\":\n",
        "           precio_con_descuento = precio_pantalon\n",
        "        if producto == \"chamarra\":\n",
        "           precio_con_descuento = precio_chamarra\n",
        "        if producto == \"vestido\":\n",
        "           precio_con_descuento = precio_vestido\n",
        "    if etiqueta == \"verde\":\n",
        "        print(\"No hay etiqueta de ese color en esta temporada\\n\")\n",
        "        if producto == \"camisa\":\n",
        "           precio_con_descuento = precio_camisa\n",
        "        if producto == \"pantalon\":\n",
        "           precio_con_descuento = precio_pantalon\n",
        "        if producto == \"chamarra\":\n",
        "           precio_con_descuento = precio_chamarra\n",
        "        if producto == \"vestido\":\n",
        "           precio_con_descuento = precio_vestido\n",
        "################################################################################################\n",
        "print(f\"El precio total a pagar con el descuento correspondiente es: {precio_con_descuento}\")"
      ],
      "metadata": {
        "id": "-NiOvt4aB5L8",
        "colab": {
          "base_uri": "https://localhost:8080/"
        },
        "outputId": "0035a04d-27c1-4df9-e5b5-cabd6e948adb"
      },
      "execution_count": null,
      "outputs": [
        {
          "output_type": "stream",
          "name": "stdout",
          "text": [
            "¿Qué producto compró? (camisa, pantalon, chamarra, o vestido): pantalon\n",
            "¿Qué etiqueta tiene el producto? (roja, verde, amarilla, o ninguna): ninguna\n",
            "¿En qué temporada se encuentra? (verano,invierno, primavera, otoño): invierno\n",
            "El precio total a pagar con el descuento correspondiente es: 70\n"
          ]
        }
      ]
    },
    {
      "cell_type": "markdown",
      "source": [
        "# Ejercicio 10\n",
        "Un restaurante ofrece descuentos a sus clientes, dependiendo del día de la semana y del tipo de menú que pidan. Los lunes, los clientes que pidan el menú del día tienen un descuento del 10%. Los martes, los clientes que pidan el menú infantil tienen un descuento del 20%. Los miércoles, los clientes que pidan el menú vegetariano tienen un descuento del 15%. Los jueves, los clientes que pidan el menú del chef tienen un descuento del 5%. Los viernes, los clientes que pidan el menú del día tienen un descuento del 5%. Los sábados y domingos no hay descuentos. Escribe un programa que calcule el precio a pagar por un cliente, tomando en cuenta los descuentos correspondientes."
      ],
      "metadata": {
        "id": "afp-pYKsByVu"
      }
    },
    {
      "cell_type": "code",
      "source": [
        "dia = input(\"Ingrese el día de la semana (lunes a domingo): \")\n",
        "menu = input(\"Ingrese el tipo de menú (menu del dia, menu infantil, menu vegetariano, menu del chef): \")\n",
        "precio_menu_dia = 10.00\n",
        "precio_menu_infantil = 8.00\n",
        "precio_menu_vegetariano = 12.00\n",
        "precio_menu_chef = 20.00\n",
        "if dia == \"lunes\" and menu == \"menu del dia\":\n",
        "    precio_final = precio_menu_dia * 0.9\n",
        "elif dia == \"martes\" and menu == \"menu infantil\":\n",
        "     precio_final = precio_menu_infantil * 0.8\n",
        "elif dia == \"miércoles\" and menu == \"menu vegetariano\":\n",
        "     precio_final = precio_menu_vegetariano * 0.85\n",
        "elif dia == \"jueves\" and menu == \"menu del chef\":\n",
        "     precio_final = precio_menu_chef * 0.95\n",
        "elif dia == \"viernes\" and menu == \"menu del dia\":\n",
        "     precio_final = precio_menu_dia * 0.95\n",
        "else:\n",
        "     precio_final = 0\n",
        "if precio_final > 0:\n",
        "    print(f\"El precio final es: ${precio_final}\")\n",
        "else:\n",
        "    print(\"No se encontro descuento para el dia y/o menu especificado.\");"
      ],
      "metadata": {
        "id": "uQAJLp2AB5hr",
        "colab": {
          "base_uri": "https://localhost:8080/"
        },
        "outputId": "e313b9cd-72ba-44e9-fc33-97ae1c5a0d19"
      },
      "execution_count": null,
      "outputs": [
        {
          "output_type": "stream",
          "name": "stdout",
          "text": [
            "Ingrese el día de la semana (lunes a domingo): viernes\n",
            "Ingrese el tipo de menú (menu del dia, menu infantil, menu vegetariano, menu del chef): menu del dia\n",
            "El precio final es: $9.5\n"
          ]
        }
      ]
    }
  ]
}