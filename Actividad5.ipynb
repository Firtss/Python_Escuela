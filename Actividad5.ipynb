{
  "nbformat": 4,
  "nbformat_minor": 0,
  "metadata": {
    "colab": {
      "provenance": [],
      "authorship_tag": "ABX9TyPAuvEKk5CWaH4H/P+uQcKE",
      "include_colab_link": true
    },
    "kernelspec": {
      "name": "python3",
      "display_name": "Python 3"
    },
    "language_info": {
      "name": "python"
    }
  },
  "cells": [
    {
      "cell_type": "markdown",
      "metadata": {
        "id": "view-in-github",
        "colab_type": "text"
      },
      "source": [
        "<a href=\"https://colab.research.google.com/github/Firtss/Python_Escuela/blob/main/Actividad5.ipynb\" target=\"_parent\"><img src=\"https://colab.research.google.com/assets/colab-badge.svg\" alt=\"Open In Colab\"/></a>"
      ]
    },
    {
      "cell_type": "markdown",
      "source": [
        "# ACTIVIDAD 5\n",
        "\n",
        "(try, for, range(), random())\n",
        "\n",
        "1.- Programa en Python que genere 40 números aleatorios entre el 0 y 200, desplegar los números y la leyenda de cada número si es par o impar , la cantidad de los números pares e impares así como la suma de los números pares o impares.\n",
        "\n"
      ],
      "metadata": {
        "id": "ghHMMO4ADM61"
      }
    },
    {
      "cell_type": "code",
      "execution_count": null,
      "metadata": {
        "colab": {
          "base_uri": "https://localhost:8080/"
        },
        "id": "FyarEYclDJU6",
        "outputId": "4ebac1c2-70f1-4fb8-91c4-70d0a52207ca"
      },
      "outputs": [
        {
          "output_type": "stream",
          "name": "stdout",
          "text": [
            "64\t PAR\n",
            "69\t IMPAR\n",
            "132\t PAR\n",
            "38\t PAR\n",
            "53\t IMPAR\n",
            "178\t PAR\n",
            "69\t IMPAR\n",
            "177\t IMPAR\n",
            "15\t IMPAR\n",
            "1\t IMPAR\n",
            "48\t PAR\n",
            "186\t PAR\n",
            "72\t PAR\n",
            "119\t IMPAR\n",
            "77\t IMPAR\n",
            "49\t IMPAR\n",
            "165\t IMPAR\n",
            "187\t IMPAR\n",
            "135\t IMPAR\n",
            "128\t PAR\n",
            "44\t PAR\n",
            "32\t PAR\n",
            "155\t IMPAR\n",
            "54\t PAR\n",
            "47\t IMPAR\n",
            "141\t IMPAR\n",
            "11\t IMPAR\n",
            "131\t IMPAR\n",
            "176\t PAR\n",
            "5\t IMPAR\n",
            "132\t PAR\n",
            "28\t PAR\n",
            "151\t IMPAR\n",
            "30\t PAR\n",
            "1\t IMPAR\n",
            "165\t IMPAR\n",
            "56\t PAR\n",
            "71\t IMPAR\n",
            "172\t PAR\n",
            "68\t PAR\n",
            "La cantidad de numeros pares es de 18\n",
            "\n",
            "La cantidad de numeros impares es de 22\n",
            "\n",
            "La suma de los pares e impares es de 3632\n"
          ]
        }
      ],
      "source": [
        "from random import randint\n",
        "suma1 = 0\n",
        "suma2 = 0\n",
        "par = 0\n",
        "impar = 0\n",
        "try:\n",
        "    for i in range(40):\n",
        "        alea = randint(0,200)\n",
        "        if alea % 2 == 0:\n",
        "            print(f\"{alea}\\t PAR\")\n",
        "            suma1 = suma1 + alea\n",
        "            par = par + 1\n",
        "        else:\n",
        "            print(f\"{alea}\\t IMPAR\")\n",
        "            suma2 = suma2 + alea\n",
        "            impar = impar + 1\n",
        "except:\n",
        "    print(\"Hubo un error en el codigo\")\n",
        "\n",
        "total = suma1 + suma2\n",
        "print(f\"La cantidad de numeros pares es de {par}\\n\")\n",
        "print(f\"La cantidad de numeros impares es de {impar}\\n\")\n",
        "print(f\"La suma de los pares e impares es de {total}\")\n"
      ]
    },
    {
      "cell_type": "markdown",
      "source": [
        "2.- Programa en Python que despliegue la tabla de multiplicar de un número dado (número entre el 1 y 20).\n",
        "\n",
        "\n",
        "\n",
        "Tabla del 5\n",
        "\n",
        "5 * 1 = 5\n",
        "\n",
        "5* 2 = 10\n",
        "\n",
        ".\n",
        "\n",
        ".\n",
        "\n",
        ".\n",
        "\n",
        "5*10=50\n",
        "\n"
      ],
      "metadata": {
        "id": "pr2Ys27cDYrF"
      }
    },
    {
      "cell_type": "code",
      "source": [
        "from random import randint\n",
        "try:\n",
        "    alea = randint(1,20)\n",
        "except:\n",
        "    print(\"Hubo un error en el codigo\")\n",
        "else:\n",
        "   for i in range(10):\n",
        "        total = alea * (i+1)\n",
        "        print(f\"{alea} X {i+1} = {total}\")"
      ],
      "metadata": {
        "colab": {
          "base_uri": "https://localhost:8080/"
        },
        "id": "xXlLk72-Dc21",
        "outputId": "b6f14c64-6c82-4e40-9a8f-40537a2ace87"
      },
      "execution_count": null,
      "outputs": [
        {
          "output_type": "stream",
          "name": "stdout",
          "text": [
            "17 X 1 = 17\n",
            "17 X 2 = 34\n",
            "17 X 3 = 51\n",
            "17 X 4 = 68\n",
            "17 X 5 = 85\n",
            "17 X 6 = 102\n",
            "17 X 7 = 119\n",
            "17 X 8 = 136\n",
            "17 X 9 = 153\n",
            "17 X 10 = 170\n"
          ]
        }
      ]
    },
    {
      "cell_type": "markdown",
      "source": [
        "3.- Programa en Python que lea una calificación, las calificación deberá estar en el rango de 0 a 100, si hay un error de captura, mostrar mensaje de error. con la calificación correcta mostrar msg de aprobado reprobado."
      ],
      "metadata": {
        "id": "asVDnTuODdV8"
      }
    },
    {
      "cell_type": "code",
      "source": [
        "from random import randrange\n",
        "try:\n",
        "    for i in range(10):\n",
        "        cali = randrange(0,100,10)\n",
        "        if cali > 60:\n",
        "            print(f\"Tu calificacion es de {cali} aprobaste\")\n",
        "        else:\n",
        "            print(f\"Tu calificacion es de {cali} reprobaste\")\n",
        "except:\n",
        "    print(\"Hay un error en el codigo\")"
      ],
      "metadata": {
        "colab": {
          "base_uri": "https://localhost:8080/"
        },
        "id": "SuvYTkoXDgdM",
        "outputId": "1d269dcb-7a1e-42af-d2a1-cf37694c6e2b"
      },
      "execution_count": null,
      "outputs": [
        {
          "output_type": "stream",
          "name": "stdout",
          "text": [
            "Tu calificacion es de 40 reprobaste\n",
            "Tu calificacion es de 0 reprobaste\n",
            "Tu calificacion es de 70 aprobaste\n",
            "Tu calificacion es de 50 reprobaste\n",
            "Tu calificacion es de 80 aprobaste\n",
            "Tu calificacion es de 10 reprobaste\n",
            "Tu calificacion es de 60 reprobaste\n",
            "Tu calificacion es de 90 aprobaste\n",
            "Tu calificacion es de 40 reprobaste\n",
            "Tu calificacion es de 70 aprobaste\n"
          ]
        }
      ]
    },
    {
      "cell_type": "markdown",
      "source": [
        "4.- Programa en Python que lea n cantidad de números enteros dentro de un rango dado (> 0 ) , el programa deberá terminar cuando el usuario introduzca el número cero.\n",
        "desplegar la suma de números y la media."
      ],
      "metadata": {
        "id": "m-YkAEHQDgyV"
      }
    },
    {
      "cell_type": "code",
      "source": [
        "cant = 0\n",
        "sum = 0\n",
        "num = 1\n",
        "try:\n",
        "    while num != 0:\n",
        "        num = int(input(\"Dame un numero entero\\t\"))\n",
        "        cant = cant + 1\n",
        "        sum = sum + num\n",
        "except NameError:\n",
        "    print(\"Has puesto una letra y te pedi un numero entero >:(\")\n",
        "else:\n",
        "    media = sum / cant\n",
        "    print(f\"La cantidad de numeros que pusiste es de {cant}\\n\")\n",
        "    print(f\"La suma de los numeros es de {sum}\\n\")\n",
        "    print(f\"La media de los numeros es de {media}\\n\")"
      ],
      "metadata": {
        "colab": {
          "base_uri": "https://localhost:8080/"
        },
        "id": "idvcmLLYDncx",
        "outputId": "718f01ef-e645-4c36-cad8-1d42f6d75f66"
      },
      "execution_count": null,
      "outputs": [
        {
          "output_type": "stream",
          "name": "stdout",
          "text": [
            "Dame un numero entero\t11\n",
            "Dame un numero entero\t4\n",
            "Dame un numero entero\t5\n",
            "Dame un numero entero\t0\n",
            "La cantidad de numeros que pusiste es de 4\n",
            "\n",
            "La suma de los numeros es de 20\n",
            "\n",
            "La media de los numeros es de 5.0\n",
            "\n"
          ]
        }
      ]
    },
    {
      "cell_type": "markdown",
      "source": [
        "5.- Programa en Python que sirva para leer el promedio de una materia. donde el usuario tendrá un máximo de 3 oportunidades de cursar la materia, si el promedio es aprobado, felicitarlo y continuar el siguiente semestre, si promedio es reprobado deberá salir mensaje de repetir materia o es baja académica si ha reprobado 3 veces."
      ],
      "metadata": {
        "id": "-EqlsBwZDnzZ"
      }
    },
    {
      "cell_type": "code",
      "source": [
        "repro = 0\n",
        "apro = 0\n",
        "try:\n",
        "    while repro != 3 and apro != 3:\n",
        "        promedio = int(input(\"Dame tu promedio de la materia\\t\"))\n",
        "        if promedio <60:\n",
        "            repro = repro + 1\n",
        "            print(f\"Reprobaste por {repro} vez\")\n",
        "            if repro == 3:\n",
        "                print(\"Ya valiste, ya reprobaste 3 veces\")\n",
        "            else:\n",
        "                print(\"Aun te quedan oportunidades\")\n",
        "        else:\n",
        "            apro = apro + 1\n",
        "            print(\"Aprobaste!!, Felicidades por no aprobar!!\")\n",
        "except TypeError:\n",
        "     print(\"No me extra;aria si reprobaras, te pedi tu calificacion\")\n",
        "except:\n",
        "     print(\"Hay un error en el codigo\")"
      ],
      "metadata": {
        "colab": {
          "base_uri": "https://localhost:8080/"
        },
        "id": "5SaHnECiDqZp",
        "outputId": "9674c127-76be-44b1-867c-3cf9f9254798"
      },
      "execution_count": null,
      "outputs": [
        {
          "output_type": "stream",
          "name": "stdout",
          "text": [
            "Dame tu promedio de la materia\t80\n",
            "Aprobaste!!, Felicidades por no aprobar!!\n",
            "Dame tu promedio de la materia\t90\n",
            "Aprobaste!!, Felicidades por no aprobar!!\n",
            "Dame tu promedio de la materia\t100\n",
            "Aprobaste!!, Felicidades por no aprobar!!\n"
          ]
        }
      ]
    },
    {
      "cell_type": "markdown",
      "source": [
        "\n",
        "1.- función que lea n cantidad de números hasta que el usuario lo desee, desplegar la suma de los números, media y valor de los números mayores y menores."
      ],
      "metadata": {
        "id": "aTtWaoMdDqrJ"
      }
    },
    {
      "cell_type": "code",
      "source": [
        "count = 0\n",
        "sum = 0\n",
        "mayor = 0\n",
        "num = 1\n",
        "try:\n",
        "    print(\"Para salir pon un 0\")\n",
        "    while num != 0:\n",
        "       num = int(input(\"Dame un numero entero\\t\"))\n",
        "       count = count + 1\n",
        "       sum = sum + num\n",
        "       if num > mayor:\n",
        "           mayor = num\n",
        "       else:\n",
        "           menor = num\n",
        "except:\n",
        "    print(\"No pusiste un numero, intenta de nuevo\")\n",
        "else:\n",
        "    media2 = sum / count\n",
        "    print(f\"La suma de los numeros es de {sum}\")\n",
        "    print(f\"La media de los numeros es de {media}\")\n",
        "    print(f\"El numero mayor es {mayor}\")\n",
        "    print(f\"El numero menor es {menor}\")"
      ],
      "metadata": {
        "colab": {
          "base_uri": "https://localhost:8080/"
        },
        "id": "DPWLYGYcDsYp",
        "outputId": "3f47c029-ba84-4eec-f465-6b6ad63ddb22"
      },
      "execution_count": null,
      "outputs": [
        {
          "output_type": "stream",
          "name": "stdout",
          "text": [
            "Para salir pon un 0\n",
            "Dame un numero entero\t80\n",
            "Dame un numero entero\t90\n",
            "Dame un numero entero\t100\n",
            "Dame un numero entero\t0\n",
            "La suma de los numeros es de 270\n",
            "La media de los numeros es de 0\n",
            "El numero mayor es 100\n",
            "El numero menor es 0\n"
          ]
        }
      ]
    },
    {
      "cell_type": "markdown",
      "source": [
        "2.- función que genere 15 números impares entre 10 y 60 o máximo de 25 números. desplegar la media de los pares y media de impares."
      ],
      "metadata": {
        "id": "HZu791KKDsnZ"
      }
    },
    {
      "cell_type": "code",
      "source": [
        "from random import randrange\n",
        "par = 0\n",
        "impar = 0\n",
        "cont_impar = 0\n",
        "cont_par = 0\n",
        "try:\n",
        "    for i in range(15):\n",
        "        num = randrange(10,60,3)\n",
        "        print(num)\n",
        "        if num %2 == 0:\n",
        "            par = par + num\n",
        "            cont_par = cont_par + 1\n",
        "        else:\n",
        "            impar = impar + num\n",
        "            cont_impar = cont_impar + 1\n",
        "except:\n",
        "    print(\"Hay un promebla con el codigo\")\n",
        "else:\n",
        "    media_par = par / cont_par\n",
        "    media_impar = impar / cont_impar\n",
        "    print(f\"La media de par es: {media_par}\\nLa media de impar es: {media_impar}\")"
      ],
      "metadata": {
        "id": "u6wob_O-ECrl",
        "colab": {
          "base_uri": "https://localhost:8080/"
        },
        "outputId": "120c62d3-6cc4-46fe-a574-ea29a6c2a280"
      },
      "execution_count": 9,
      "outputs": [
        {
          "output_type": "stream",
          "name": "stdout",
          "text": [
            "22\n",
            "43\n",
            "52\n",
            "13\n",
            "22\n",
            "46\n",
            "40\n",
            "40\n",
            "22\n",
            "34\n",
            "19\n",
            "25\n",
            "25\n",
            "58\n",
            "19\n",
            "La media de par es: 37.333333333333336\n",
            "La media de impar es: 24.0\n"
          ]
        }
      ]
    },
    {
      "cell_type": "markdown",
      "source": [
        "3.- función que sirva para leer y validar un número dentro de un rango dado por el usuario. repetir esta acción hasta que el usuario lo desee, desplegar cantidad de números y promedio de los números.."
      ],
      "metadata": {
        "id": "msng6tWhEC-l"
      }
    },
    {
      "cell_type": "code",
      "source": [
        "total = 0\n",
        "prom = 0\n",
        "sum = 0\n",
        "num = 1\n",
        "cont = 0\n",
        "try:\n",
        "    print(\"De donde hasta donde quieres tu rango?\\n\")\n",
        "    rango1 = int(input(\"rango 1\\n\"))\n",
        "    rango2 = int(input(\"rango 2\\n\"))\n",
        "    for i in range(rango1,rango2):\n",
        "        while num != 0:\n",
        "            num = int(input(\"Dame un numeros entero positivo de tu rango\\nSi desear salir pon un 0\\n\"))\n",
        "            if num < rango1 or num > rango2:\n",
        "                print(\"Tu numero excedio de tu rango\")\n",
        "                total = 0\n",
        "                prom = 0\n",
        "                sum = 0\n",
        "                num = 1\n",
        "                cont = 0\n",
        "                break\n",
        "            sum = sum + num\n",
        "            cont = cont + 1\n",
        "except:\n",
        "    print(\"Te pedi un numero, intentalo de nuevo\")\n",
        "else:\n",
        "    prom = sum / cont\n",
        "    print(f\"El total de numeros es de: {cont}\")\n",
        "    print(f\"La suma total de los numeros es de: {prom}\")"
      ],
      "metadata": {
        "id": "A8o2cQHgEE0t",
        "colab": {
          "base_uri": "https://localhost:8080/"
        },
        "outputId": "a7ba0c71-fe31-48fd-bcfc-afa4b99228f5"
      },
      "execution_count": 39,
      "outputs": [
        {
          "output_type": "stream",
          "name": "stdout",
          "text": [
            "De donde hasta donde quieres tu rango?\n",
            "\n",
            "rango 1\n",
            "0\n",
            "rango 2\n",
            "100\n",
            "Dame un numeros entero positivo de tu rango\n",
            "Si desear salir pon un 0\n",
            "200\n",
            "Tu numero excedio de tu rango\n",
            "Dame un numeros entero positivo de tu rango\n",
            "Si desear salir pon un 0\n",
            "5\n",
            "Dame un numeros entero positivo de tu rango\n",
            "Si desear salir pon un 0\n",
            "10\n",
            "Dame un numeros entero positivo de tu rango\n",
            "Si desear salir pon un 0\n",
            "0\n",
            "El total de numeros es de: 3\n",
            "La suma total de los numeros es de: 5.0\n"
          ]
        }
      ]
    },
    {
      "cell_type": "markdown",
      "source": [
        "4.- función que reciba como parámetro los valores para el área de un triángulo y retorne su resultado"
      ],
      "metadata": {
        "id": "7_-cxhkKEFGO"
      }
    },
    {
      "cell_type": "code",
      "source": [
        "try:\n",
        "    print(\"Dame los valores b de base y h de altura para sacar el area del triangulo\\n\")\n",
        "    b = int(input(\"Valor de b: \"))\n",
        "    h = int(input(\"Valor de h: \"))\n",
        "except:\n",
        "    print(\"Te pedi numero, no letras.\\nIntentalo de nuevo\")\n",
        "else:\n",
        "    area = (b * h)/2\n",
        "    print(f\"El area del triangulo es: {area}\")"
      ],
      "metadata": {
        "id": "Gi2X_p8kEGyV",
        "colab": {
          "base_uri": "https://localhost:8080/"
        },
        "outputId": "4548f27c-9165-4f43-fa64-236cb596e281"
      },
      "execution_count": 40,
      "outputs": [
        {
          "output_type": "stream",
          "name": "stdout",
          "text": [
            "Dame los valores b de base y h de altura para sacar el area del triangulo\n",
            "\n",
            "Valor de b: 6\n",
            "Valor de h: 4\n",
            "El area del triangulo es: 12.0\n"
          ]
        }
      ]
    },
    {
      "cell_type": "markdown",
      "source": [
        "5.- función que sirva para validar un número dentro de un rango dado."
      ],
      "metadata": {
        "id": "0hOsMxyVEHC9"
      }
    },
    {
      "cell_type": "code",
      "source": [
        "num = 1\n",
        "band = 1\n",
        "try:\n",
        "    print(\"De donde hasta donde quieres tu rango?\\n\")\n",
        "    rango1 = int(input(\"rango 1\\n\"))\n",
        "    rango2 = int(input(\"rango 2\\n\"))\n",
        "    for i in range(rango1,rango2):\n",
        "        while num != 0 or band != 0:\n",
        "            num = int(input(\"Dame un numeros entero positivo de tu rango\\nSi desear salir pon un 0\\n\"))\n",
        "            if num < rango1 or num > rango2:\n",
        "                print(\"Tu numero excedio de tu rango >:(\")\n",
        "                num = 0\n",
        "                band = 0\n",
        "                break\n",
        "except:\n",
        "     print(\"Te pedi un numero.\\nIntenta de nuevo\")\n",
        "else:\n",
        "    if band == 1:\n",
        "       print(\"No te saliste de tu rango.\\nFELICIDADES!!!\")"
      ],
      "metadata": {
        "id": "vNzAD1p5EIvN",
        "colab": {
          "base_uri": "https://localhost:8080/"
        },
        "outputId": "8fb24df8-21f4-4dce-abef-d780b5faea52"
      },
      "execution_count": 47,
      "outputs": [
        {
          "output_type": "stream",
          "name": "stdout",
          "text": [
            "De donde hasta donde quieres tu rango?\n",
            "\n",
            "rango 1\n",
            "0\n",
            "rango 2\n",
            "100\n",
            "Dame un numeros entero positivo de tu rango\n",
            "Si desear salir pon un 0\n",
            "200\n",
            "Tu numero excedio de tu rango >:(\n"
          ]
        }
      ]
    }
  ]
}