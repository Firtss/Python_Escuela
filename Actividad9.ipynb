{
  "nbformat": 4,
  "nbformat_minor": 0,
  "metadata": {
    "colab": {
      "provenance": [],
      "authorship_tag": "ABX9TyPaGy8DUEaM8ZuEsB6F7v2s",
      "include_colab_link": true
    },
    "kernelspec": {
      "name": "python3",
      "display_name": "Python 3"
    },
    "language_info": {
      "name": "python"
    }
  },
  "cells": [
    {
      "cell_type": "markdown",
      "metadata": {
        "id": "view-in-github",
        "colab_type": "text"
      },
      "source": [
        "<a href=\"https://colab.research.google.com/github/Firtss/Python_Escuela/blob/main/Actividad9.ipynb\" target=\"_parent\"><img src=\"https://colab.research.google.com/assets/colab-badge.svg\" alt=\"Open In Colab\"/></a>"
      ]
    },
    {
      "cell_type": "markdown",
      "source": [
        "Realiza un programa en python que utilice el siguiente menu:\n",
        "\n",
        " MENU\n",
        "\n",
        " 1.- Crear Diccionario\n",
        "\n",
        " 2.- Imprimir Diccionario\n",
        "\n",
        " 0.- Salir\n",
        "\n",
        "\n",
        "\n",
        "CREAR DICCIIONARIO: funcion que retorne un diccionario con los datos de basicos de un alumno, donde se pide {id,nombre (1 O 2) , appaterno,apmaterno, edad,sexo}, El diccionario se debe generar automaticmanete a partir de listas.\n",
        "\n",
        "\n",
        "\n",
        "IMPRIMIR DICCIONARIO:  Funcion que reciba como parametro el diccionario, y le de una salida mostrando la informacion en forma de registro que se genero con el diccionario"
      ],
      "metadata": {
        "id": "Knb4t12yW0ra"
      }
    },
    {
      "cell_type": "code",
      "source": [
        "import random\n",
        "import platform\n",
        "import os\n",
        "import time\n",
        "def limpiar_pantalla():\n",
        "    time.sleep(2)\n",
        "    if platform.system() == 'Windows':\n",
        "      os.system('cls')\n",
        "    else:\n",
        "      os.system('clear')\n",
        "opc = int(input(\"\\tMENU\\n\\t1. Crear diccionario\\n\\t2. Imprimir diccionario\\n\\t0. Salir\\n\\tIngrese una opcion\"))\n",
        "while opc != 0:\n",
        "    limpiar_pantalla()\n",
        "    if opc == 1:\n",
        "        id = random.randint(0,1)\n",
        "        edad = random.randint(17,60)\n",
        "        sexo = ['Hombre','Mujer']\n",
        "        sexo = random.choice(sexo)\n",
        "        NombreH = ['Martin','Jose','Mauricio','Enrique','Rogelio','Juan','Raul','Miguel','Alejandro','Andres']\n",
        "        NombreM = ['Paula','Daniela','Maria','Juana','Paola','Lesly','Samanta','Laura','Monica','Carol']\n",
        "        appP = ['Sanchez','Zapata','Zepeda','Mata','Sandoval','Queveda','Smith','Douglas','Johnston','Jefferson']\n",
        "        appM = ['Hammond','Holt','Shannon','Church','Ochoa','Lozano','Hull','Humphrey','Brady','Garrison']\n",
        "        if sexo == 'Hombre':\n",
        "          nombre = random.choice(NombreH)\n",
        "        else:\n",
        "          nombre = random.choice(NombreM)\n",
        "          appP = random.choice(appP)\n",
        "          appM = random.choice(appM)\n",
        "          diccionario = {\n",
        "            \"ID\": [id],\n",
        "            \"NOMBRE\": [nombre],\n",
        "            \"APELLIDO PATERNO\":[appP],\n",
        "            \"APELLIDO MATERNO\":[appM],\n",
        "            \"EDAD\":[edad],\n",
        "            \"SEXO\":[sexo]\n",
        "            }\n",
        "          print(\"Se ha creado el diccionario correctamente\\n\")\n",
        "          limpiar_pantalla()\n",
        "\n",
        "    elif opc == 2:\n",
        "        print(\"Los resultados son\\n\")\n",
        "        print(diccionario.get(\"ID\"))\n",
        "        print(diccionario.get('NOMBRE'))\n",
        "        print(diccionario.get(\"APELLIDO PATERNO\"))\n",
        "        print(diccionario.get(\"APELLIDO MATERNO\"))\n",
        "        print(diccionario.get(\"EDAD\"))\n",
        "        print(diccionario.get(\"SEXO\"))\n",
        "        limpiar_pantalla()\n",
        "\n",
        "    else:\n",
        "        print(\"Por favor de digitar una opcion correcta\")\n",
        "        limpiar_pantalla()\n",
        "\n",
        "    opc = int(input(\"\\tMENU\\n\\t1. Crear diccionario\\n\\t2. Imprimir diccionario\\n\\t0. Salir\\n\\tIngrese una opcion\"))\n",
        "\n",
        "\n"
      ],
      "metadata": {
        "colab": {
          "base_uri": "https://localhost:8080/"
        },
        "id": "sYLsRivFcQ3E",
        "outputId": "d86761fb-dcc8-4880-f987-32a49c87d69b"
      },
      "execution_count": 29,
      "outputs": [
        {
          "name": "stdout",
          "output_type": "stream",
          "text": [
            "\tMENU\n",
            "\t1. Crear diccionario\n",
            "\t2. Imprimir diccionario\n",
            "\t0. Salir\n",
            "\tIngrese una opcion1\n",
            "\tMENU\n",
            "\t1. Crear diccionario\n",
            "\t2. Imprimir diccionario\n",
            "\t0. Salir\n",
            "\tIngrese una opcion2\n",
            "Los resultados son\n",
            "\n",
            "[1]\n",
            "['Samanta']\n",
            "['Queveda']\n",
            "['Hammond']\n",
            "[50]\n",
            "['Mujer']\n",
            "Presiona enter para limpiar pantalla...\n",
            "\tMENU\n",
            "\t1. Crear diccionario\n",
            "\t2. Imprimir diccionario\n",
            "\t0. Salir\n",
            "\tIngrese una opcion0\n"
          ]
        }
      ]
    }
  ]
}