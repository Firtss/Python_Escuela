{
  "nbformat": 4,
  "nbformat_minor": 0,
  "metadata": {
    "colab": {
      "provenance": [],
      "authorship_tag": "ABX9TyNYTCrB2tmb7qVzeDJwl+to",
      "include_colab_link": true
    },
    "kernelspec": {
      "name": "python3",
      "display_name": "Python 3"
    },
    "language_info": {
      "name": "python"
    }
  },
  "cells": [
    {
      "cell_type": "markdown",
      "metadata": {
        "id": "view-in-github",
        "colab_type": "text"
      },
      "source": [
        "<a href=\"https://colab.research.google.com/github/Firtss/Python_Escuela/blob/main/ACT12.ipynb\" target=\"_parent\"><img src=\"https://colab.research.google.com/assets/colab-badge.svg\" alt=\"Open In Colab\"/></a>"
      ]
    },
    {
      "cell_type": "code",
      "source": [
        "!pip install pyyaml\n",
        "import sys\n",
        "import os\n",
        "from IPython.display import clear_output\n",
        "import random\n",
        "import json\n",
        "import yaml\n",
        "import pandas as pd\n",
        "import pickle\n",
        "import pydrive"
      ],
      "metadata": {
        "colab": {
          "base_uri": "https://localhost:8080/"
        },
        "id": "cu2eVAJU98nj",
        "outputId": "e62231d2-1392-4db2-9f0c-1913ca8b4f14"
      },
      "execution_count": 18,
      "outputs": [
        {
          "output_type": "stream",
          "name": "stdout",
          "text": [
            "Requirement already satisfied: pyyaml in /usr/local/lib/python3.10/dist-packages (6.0.1)\n"
          ]
        }
      ]
    },
    {
      "cell_type": "code",
      "source": [
        "# SE CREA UNA CADENA CON LA RUTA DE LA CRPETA EN GOOGLE DRIVE\n",
        "from google.colab import drive\n",
        "drive.mount('/content/drive')\n",
        "ruta='/content/drive/MyDrive/proyecto/proyecto'"
      ],
      "metadata": {
        "id": "Unjcaz-O79eN",
        "colab": {
          "base_uri": "https://localhost:8080/"
        },
        "outputId": "ffcf1970-0938-4f90-e27d-c1af1fbac882"
      },
      "execution_count": 12,
      "outputs": [
        {
          "output_type": "stream",
          "name": "stdout",
          "text": [
            "Drive already mounted at /content/drive; to attempt to forcibly remount, call drive.mount(\"/content/drive\", force_remount=True).\n"
          ]
        }
      ]
    },
    {
      "cell_type": "code",
      "source": [
        "#  SE CARGA LA RUTA PREDETERMINADA DEL SISTEMA DE PYTHON.\n",
        "# PARA QUE EL INTERPRETE DE PYTHON PUEDA ENCONTRAR Y CARGAR EL MODULO DESDE ESA UBICACION\n",
        "sys.path.append(ruta)"
      ],
      "metadata": {
        "id": "j2HncEs68TgH"
      },
      "execution_count": 8,
      "outputs": []
    },
    {
      "cell_type": "code",
      "execution_count": 22,
      "metadata": {
        "colab": {
          "base_uri": "https://localhost:8080/",
          "height": 390
        },
        "id": "JHfhXxserrKW",
        "outputId": "7089ab14-046a-4bfa-9af1-5fed66a33df2"
      },
      "outputs": [
        {
          "output_type": "stream",
          "name": "stdout",
          "text": [
            "Escogiste cargar archivo\n"
          ]
        },
        {
          "output_type": "error",
          "ename": "AttributeError",
          "evalue": "ignored",
          "traceback": [
            "\u001b[0;31m---------------------------------------------------------------------------\u001b[0m",
            "\u001b[0;31mAttributeError\u001b[0m                            Traceback (most recent call last)",
            "\u001b[0;32m<ipython-input-22-73051f42381d>\u001b[0m in \u001b[0;36m<cell line: 215>\u001b[0;34m()\u001b[0m\n\u001b[1;32m    213\u001b[0m     \u001b[0mprint\u001b[0m\u001b[0;34m(\u001b[0m\u001b[0;34m\"Escogiste salir\"\u001b[0m\u001b[0;34m)\u001b[0m\u001b[0;34m\u001b[0m\u001b[0;34m\u001b[0m\u001b[0m\n\u001b[1;32m    214\u001b[0m \u001b[0;34m\u001b[0m\u001b[0m\n\u001b[0;32m--> 215\u001b[0;31m \u001b[0mmenu\u001b[0m\u001b[0;34m(\u001b[0m\u001b[0;34m)\u001b[0m\u001b[0;34m\u001b[0m\u001b[0;34m\u001b[0m\u001b[0m\n\u001b[0m",
            "\u001b[0;32m<ipython-input-22-73051f42381d>\u001b[0m in \u001b[0;36mmenu\u001b[0;34m()\u001b[0m\n\u001b[1;32m     66\u001b[0m             \u001b[0;32mcontinue\u001b[0m\u001b[0;34m\u001b[0m\u001b[0;34m\u001b[0m\u001b[0m\n\u001b[1;32m     67\u001b[0m         \u001b[0;32melif\u001b[0m \u001b[0mopcion\u001b[0m \u001b[0;34m==\u001b[0m \u001b[0;36m8\u001b[0m\u001b[0;34m:\u001b[0m\u001b[0;34m\u001b[0m\u001b[0;34m\u001b[0m\u001b[0m\n\u001b[0;32m---> 68\u001b[0;31m             \u001b[0mCargar\u001b[0m\u001b[0;34m(\u001b[0m\u001b[0;34m)\u001b[0m\u001b[0;34m\u001b[0m\u001b[0;34m\u001b[0m\u001b[0m\n\u001b[0m\u001b[1;32m     69\u001b[0m             \u001b[0minput\u001b[0m\u001b[0;34m(\u001b[0m\u001b[0;34m\"Presiona ENTER para borrar la pantalla\"\u001b[0m\u001b[0;34m)\u001b[0m\u001b[0;34m\u001b[0m\u001b[0;34m\u001b[0m\u001b[0m\n\u001b[1;32m     70\u001b[0m             \u001b[0mclear_output\u001b[0m\u001b[0;34m(\u001b[0m\u001b[0;34m)\u001b[0m\u001b[0;34m\u001b[0m\u001b[0;34m\u001b[0m\u001b[0m\n",
            "\u001b[0;32m<ipython-input-22-73051f42381d>\u001b[0m in \u001b[0;36mCargar\u001b[0;34m()\u001b[0m\n\u001b[1;32m    183\u001b[0m \u001b[0;34m\u001b[0m\u001b[0m\n\u001b[1;32m    184\u001b[0m     \u001b[0;31m# Busca el archivo por su nombre\u001b[0m\u001b[0;34m\u001b[0m\u001b[0;34m\u001b[0m\u001b[0m\n\u001b[0;32m--> 185\u001b[0;31m     \u001b[0mfile_list\u001b[0m \u001b[0;34m=\u001b[0m \u001b[0mdrive\u001b[0m\u001b[0;34m.\u001b[0m\u001b[0mListFile\u001b[0m\u001b[0;34m(\u001b[0m\u001b[0;34m{\u001b[0m\u001b[0;34m'q'\u001b[0m\u001b[0;34m:\u001b[0m \u001b[0;34mf\"title='{nombre_archivo}'\"\u001b[0m\u001b[0;34m}\u001b[0m\u001b[0;34m)\u001b[0m\u001b[0;34m.\u001b[0m\u001b[0mGetList\u001b[0m\u001b[0;34m(\u001b[0m\u001b[0;34m)\u001b[0m\u001b[0;34m\u001b[0m\u001b[0;34m\u001b[0m\u001b[0m\n\u001b[0m\u001b[1;32m    186\u001b[0m \u001b[0;34m\u001b[0m\u001b[0m\n\u001b[1;32m    187\u001b[0m     \u001b[0;32mif\u001b[0m \u001b[0mlen\u001b[0m\u001b[0;34m(\u001b[0m\u001b[0mfile_list\u001b[0m\u001b[0;34m)\u001b[0m \u001b[0;34m>\u001b[0m \u001b[0;36m0\u001b[0m\u001b[0;34m:\u001b[0m\u001b[0;34m\u001b[0m\u001b[0;34m\u001b[0m\u001b[0m\n",
            "\u001b[0;31mAttributeError\u001b[0m: module 'google.colab.drive' has no attribute 'ListFile'"
          ]
        }
      ],
      "source": [
        "lista = list()\n",
        "contenido = \"\"\n",
        "class registro:\n",
        "    def __init__(self):\n",
        "        self.id = ()\n",
        "        self.nombre = (\"\")\n",
        "        self.appat = (\"\")\n",
        "        self.apmat = (\"\")\n",
        "        self.edad = ()\n",
        "        self.sexo = ()\n",
        "    def __str__(self):\n",
        "        return f\"ID: {self.id}, Nombre: {self.nombre}, Appat: {self.appat}, Apmat: {self.apmat}, Edad: {self.edad}, Sexo: {self.sexo}\"\n",
        "def menu():\n",
        "    clear_output()\n",
        "    opcion = 11\n",
        "    while opcion != 0:\n",
        "        print(\"MENU\\n\")\n",
        "        print(\"1.-Agregar(automatico 10)\\n\")\n",
        "        print(\"2.-Eliminar(ID)\\n\")\n",
        "        print(\"3.-Imprimir lista(tabla)\\n\")\n",
        "        print(\"4.-Buscar(ID)\\n\")\n",
        "        print(\"5.-Buscar(appat) todas las coincidencias\\n\")\n",
        "        print(\"6.-Ordenar(ID)\\n\")\n",
        "        print(\"7.-Generar archivo(ID)(Preguntar nombre del archivo)\\n\")\n",
        "        print(\"8.-Cargar archivo(ID)\\n\")\n",
        "        print(\"9.-Imprimir archivo(ID)\\n\")\n",
        "        print(\"10.-Borrar toda la lista(ID)\\n\")\n",
        "        print(\"0.-Salir\\n\")\n",
        "        opcion = int(input(\"Escoge una de las opciones \"))\n",
        "        if opcion == 1:\n",
        "          for _ in range(10):\n",
        "            Agregar()\n",
        "          print(\"Escogiste agregar 10 registros.\\n\")\n",
        "          print(\"Agregando 10 registros automaticamente.\\n\")\n",
        "          input(\"Presiona ENTER para borrar la pantalla\")\n",
        "          clear_output()\n",
        "          continue\n",
        "        elif opcion == 2:\n",
        "            Eliminar()\n",
        "            input(\"Presiona ENTER para borrar la pantalla\")\n",
        "            clear_output()\n",
        "        elif opcion == 3:\n",
        "            Imprimir()\n",
        "            input(\"Presiona ENTER para borrar la pantalla\")\n",
        "            clear_output()\n",
        "            continue\n",
        "        elif opcion == 4:\n",
        "            buscarid()\n",
        "            input(\"Presiona ENTER para borrar la pantalla\")\n",
        "            clear_output()\n",
        "            continue\n",
        "        elif opcion == 5:\n",
        "            buscarap()\n",
        "            input(\"Presiona ENTER para borrar la pantalla\")\n",
        "            clear_output()\n",
        "            continue\n",
        "        elif opcion == 6:\n",
        "            Ordenar()\n",
        "            input(\"Presiona ENTER para borrar la pantalla\")\n",
        "            clear_output()\n",
        "            continue\n",
        "        elif opcion == 7:\n",
        "            Generar()\n",
        "            input(\"Presiona ENTER para borrar la pantalla\")\n",
        "            clear_output()\n",
        "            continue\n",
        "        elif opcion == 8:\n",
        "            Cargar()\n",
        "            input(\"Presiona ENTER para borrar la pantalla\")\n",
        "            clear_output()\n",
        "            continue\n",
        "        elif opcion == 9:\n",
        "            Imprimirar(contenido)\n",
        "            input(\"Presiona ENTER para borrar la pantalla\")\n",
        "            clear_output()\n",
        "            continue\n",
        "        elif opcion == 10:\n",
        "            Borrarlista()\n",
        "            input(\"Presiona ENTER para borrar la pantalla\")\n",
        "            clear_output()\n",
        "            continue\n",
        "        elif opcion == 0:\n",
        "            Salir()\n",
        "            input(\"Presiona ENTER para borrar la pantalla\")\n",
        "            clear_output()\n",
        "            break\n",
        "def Agregar():\n",
        "    clear_output()\n",
        "    reg = registro()\n",
        "    reg.id = random.randint(300000,999999)\n",
        "    reg.edad = random.randint(17,60)\n",
        "    genero = random.randint(0,1)\n",
        "    H = ['Martin','Jose','Mauricio','Enrique','Rogelio','Juan','Raul','Miguel','Alejandro','Andres']\n",
        "    M = ['Paula','Daniela','Maria','Juana','Paola','Lesly','Samanta','Laura','Monica','Carol']\n",
        "    appP = ['Sanchez','Zapata','Zepeda','Mata','Sandoval','Queveda','Smith','Douglas','Johnston','Jefferson']\n",
        "    appM = ['Hammond','Holt','Shannon','Church','Ochoa','Lozano','Hull','Humphrey','Brady','Garrison']\n",
        "\n",
        "    if genero == 0:\n",
        "      reg.sexo = \"Hombre\"\n",
        "      reg.nombre = random.choice(H)\n",
        "    else:\n",
        "      reg.sexo = \"Mujer\"\n",
        "      reg.nombre = random.choice(M)\n",
        "\n",
        "    reg.appat = random.choice(appP)\n",
        "    reg.apmat = random.choice(appM)\n",
        "    lista.append(reg)\n",
        "def Eliminar():\n",
        "    clear_output()\n",
        "    print(\"Escogiste Eliminar un registro.\\n\")\n",
        "    id_a_eliminar = int(input(\"Ingrese el ID a eliminar \"))\n",
        "    registro_encontrado = None\n",
        "\n",
        "    for reg in lista:\n",
        "      if reg.id == id_a_eliminar:\n",
        "          registro_encontrado = reg\n",
        "          break\n",
        "    if registro_encontrado:\n",
        "        lista.remove(registro_encontrado)\n",
        "        print(f\"Registro con ID {id_a_eliminar} eliminado.\\n\")\n",
        "    else:\n",
        "      print(f\"No se encontro ningun registro con el ID {id_a_eliminar}.\\n\")\n",
        "def Imprimir():\n",
        "    clear_output()\n",
        "    print(\"Escogiste imprimir la tabla\\n\")\n",
        "    for reg in lista:\n",
        "      print(reg)\n",
        "def buscarid():\n",
        "    clear_output()\n",
        "    print(\"Escogiste buscar ID\\n\")\n",
        "    id_a_buscar = int(input(\"Ingrese el ID a buscar \"))\n",
        "    registro_encontrado = None\n",
        "\n",
        "    for reg in lista:\n",
        "      if reg.id == id_a_buscar:\n",
        "        registro_encontrado = reg\n",
        "        break\n",
        "    if registro_encontrado:\n",
        "      print(\"El registro se encontro\\n\")\n",
        "      print(registro_encontrado)\n",
        "    else:\n",
        "     print(f\"No se encontro ningun registro con el ID {id_a_buscar}.\\n\")\n",
        "def buscarap():\n",
        "    clear_output()\n",
        "    print(\"Escogiste buscar appat\")\n",
        "    ap_paterno_a_buscar = input(\"Ingrese el apellido paterno que desea buscar: \")\n",
        "    registros_encontrados = []\n",
        "\n",
        "    for reg in lista:\n",
        "        if reg.appat == ap_paterno_a_buscar:\n",
        "            registros_encontrados.append(reg)\n",
        "\n",
        "    if registros_encontrados:\n",
        "        print(\"Registros encontrados:\")\n",
        "        for reg in registros_encontrados:\n",
        "            print(reg)\n",
        "    else:\n",
        "        print(f\"No se encontraron registros con el apellido paterno {ap_paterno_a_buscar}.\\n\")\n",
        "def Ordenar():\n",
        "    clear_output()\n",
        "    print(\"Escogiste Ordenar.\\n\")\n",
        "    lista.sort(key = lambda reg: reg.id)\n",
        "    print(\"Registros ordenardos.\\n\")\n",
        "def Generar():\n",
        "    clear_output()\n",
        "    print(\"Escogiste Generar archivo.\\n\")\n",
        "    nombre_archivo = input(\"Ingresa el nombre con el que deseas guardar el archivo: \")\n",
        "    data = pd.DataFrame(lista)\n",
        "    data.to_excel(f'/content/drive/MyDrive/proyecto/proyecto/{nombre_archivo}.xlsx', index=False)\n",
        "    data.to_csv(f'/content/drive/MyDrive/proyecto/proyecto{nombre_archivo}.csv', index=False)\n",
        "    data.to_markdown(f'/content/drive/MyDrive/proyecto/proyecto{nombre_archivo}.md', index=False)\n",
        "def Cargar():\n",
        "    from pydrive.auth import GoogleAuth\n",
        "    from pydrive.drive import GoogleDrive\n",
        "\n",
        "    clear_output()\n",
        "    global contenido\n",
        "    print(\"Escogiste cargar archivo\")\n",
        "\n",
        "    gauth = GoogleAuth()\n",
        "    gauth.LocalWebserverAuth()  # Realiza la autenticación vía web\n",
        "    drive = GoogleDrive(gauth)\n",
        "\n",
        "\n",
        "    nombre_archivo = 'no_tenemos_feria.txt'\n",
        "\n",
        "    # Busca el archivo por su nombre\n",
        "    file_list = drive.ListFile({'q': f\"title='{nombre_archivo}'\"}).GetList()\n",
        "\n",
        "    if len(file_list) > 0:\n",
        "        archivo = file_list[0]\n",
        "\n",
        "        # Descarga el contenido del archivo\n",
        "        contenido = archivo.GetContentString()\n",
        "        print(f\"Archivo '{nombre_archivo}' cargado correctamente.\")\n",
        "        return contenido\n",
        "\n",
        "    else:\n",
        "        print(f\"No se encontró el archivo '{nombre_archivo}' en Google Drive.\")\n",
        "        return None\n",
        "\n",
        "def Imprimirar(contenido):\n",
        "    clear_output()\n",
        "    print(\"Escogiste imprimir archivo\\n\")\n",
        "    if contenido is not None:\n",
        "        print(\"CONTENIDO DEL ARCHIVO: \")\n",
        "        print(contenido)\n",
        "    else:\n",
        "        print(\"No hay contenido para mostrar.\")\n",
        "def Borrarlista():\n",
        "    print(\"Escogiste borrar lista\")\n",
        "    global lista\n",
        "    lista.clear()\n",
        "    print(\"La lista se ha borrado correctamente.\")\n",
        "def Salir():\n",
        "    print(\"Escogiste salir\")\n",
        "\n",
        "menu()"
      ]
    }
  ]
}